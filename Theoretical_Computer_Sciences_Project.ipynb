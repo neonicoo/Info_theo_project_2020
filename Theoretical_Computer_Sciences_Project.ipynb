{
 "cells": [
  {
   "cell_type": "markdown",
   "metadata": {},
   "source": [
    "# Theoretical Computer Sciences Project"
   ]
  },
  {
   "cell_type": "markdown",
   "metadata": {},
   "source": [
    "#### Sergio Peignier and Théotime Grohens"
   ]
  },
  {
   "cell_type": "markdown",
   "metadata": {},
   "source": [
    "\\section{1 - Graph Therory}"
   ]
  },
  {
   "cell_type": "markdown",
   "metadata": {},
   "source": [
    "\\subsection{1.1 Introduction}"
   ]
  },
  {
   "cell_type": "markdown",
   "metadata": {},
   "source": [
    "In this project we will apply graph algorithms to study the gene regulatory network (GRN)\n",
    "of \\textit{Saccharomyces cerevisiae}.\n",
    "This species of yeast, it is a small single-cell eukaryote, with a short generation time, and\n",
    "two possible forms: an haploid one and a diploid one. Moreover, this organism can be easily\n",
    "cultured, and it has an important economic impact since it is extensively used for instance,\n",
    "in winemaking, baking, and brewing. Due to these characteristics, Saccharomyces cerevisiae\n",
    "is studied as an important model organism."
   ]
  },
  {
   "cell_type": "markdown",
   "metadata": {},
   "source": [
    "In this work we will study the gene regulatory network of \\textit{Saccharomyces cerevisiae },\n",
    "using graph theory algorithms. The files that are provided for this project have been used\n",
    "in [MCK+12] , as gold-standards to assess gene regulatory network inference algorithms, and\n",
    "they are the result of biological experiments based on ChIP binding data [MWG + 06], and\n",
    "1systematic transcription factor deletions [HKI07]. Hereafter we describe each dataset in\n",
    "details:"
   ]
  },
  {
   "cell_type": "markdown",
   "metadata": {},
   "source": [
    "\\begin{itemize}\n",
    "\\item GRN edges S cerevisiae.txt: contains the edges of the S. cervisiae regulatory network\n",
    "(from transcription factors to target genes). The intended meaning is that if there is\n",
    "an edge between transcription factor X and the target gene A, then X regulates the\n",
    "transcription of A.\n",
    "\n",
    "\\item net4 transcription factors.tsv: Is a file containing in a single column the identifiers of the transcription factors of S. cervisiae that were studied.\n",
    "\n",
    "\\item net4 gene ids.tsv: The two previous files, use specific identifiers to denote genes, and this file contains the gene name associated to each gene identifier.\n",
    "\n",
    "\\item go slim mapping.tab.txt: Only columns 0 and 5 will be used in this work. Column 0 contains the gene name, and column 5 contains its Gene Ontology (GO) annotation\n",
    "(http://www.geneontology.org/). Notice that two different rows may give for the\n",
    "same gene different Gene Ontology annotations. \n",
    "\\end{itemize}"
   ]
  },
  {
   "cell_type": "markdown",
   "metadata": {},
   "source": [
    "\\subsection{1.2 Exercices}"
   ]
  },
  {
   "cell_type": "markdown",
   "metadata": {},
   "source": [
    "\\textbf{Exercise 1 : } Exploration and characterization of the gene regulatory network}"
   ]
  },
  {
   "cell_type": "markdown",
   "metadata": {},
   "source": [
    "1) Load the dataset and create a NetworkX graph instance."
   ]
  },
  {
   "cell_type": "code",
   "execution_count": null,
   "metadata": {},
   "outputs": [],
   "source": []
  }
 ],
 "metadata": {
  "kernelspec": {
   "display_name": "Python 3",
   "language": "python",
   "name": "python3"
  },
  "language_info": {
   "codemirror_mode": {
    "name": "ipython",
    "version": 3
   },
   "file_extension": ".py",
   "mimetype": "text/x-python",
   "name": "python",
   "nbconvert_exporter": "python",
   "pygments_lexer": "ipython3",
   "version": "3.8.5"
  },
  "latex_envs": {
   "LaTeX_envs_menu_present": true,
   "autoclose": false,
   "autocomplete": true,
   "bibliofile": "biblio.bib",
   "cite_by": "apalike",
   "current_citInitial": 1,
   "eqLabelWithNumbers": true,
   "eqNumInitial": 1,
   "hotkeys": {
    "equation": "Ctrl-E",
    "itemize": "Ctrl-I"
   },
   "labels_anchors": false,
   "latex_user_defs": false,
   "report_style_numbering": false,
   "user_envs_cfg": false
  }
 },
 "nbformat": 4,
 "nbformat_minor": 4
}
