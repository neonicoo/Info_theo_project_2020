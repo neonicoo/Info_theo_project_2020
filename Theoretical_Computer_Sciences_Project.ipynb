{
 "cells": [
  {
   "cell_type": "markdown",
   "metadata": {},
   "source": [
    "# Theoretical Computer Sciences Project"
   ]
  },
  {
   "cell_type": "markdown",
   "metadata": {},
   "source": [
    "#### Sergio Peignier and Théotime Grohens"
   ]
  },
  {
   "cell_type": "markdown",
   "metadata": {},
   "source": [
    "\\section{1 - Graph Therory}"
   ]
  },
  {
   "cell_type": "code",
   "execution_count": 1,
   "metadata": {},
   "outputs": [],
   "source": [
    "import random\n",
    "import pandas as pd\n",
    "import numpy as np\n",
    "import networkx as nx\n",
    "import matplotlib.pyplot as plt\n",
    "import seaborn as sns\n",
    "import math "
   ]
  },
  {
   "cell_type": "markdown",
   "metadata": {},
   "source": [
    "\\subsection{1.1 Introduction}"
   ]
  },
  {
   "cell_type": "markdown",
   "metadata": {},
   "source": [
    "In this project we will apply graph algorithms to study the gene regulatory network (GRN)\n",
    "of \\textit{Saccharomyces cerevisiae}.\n",
    "This species of yeast, it is a small single-cell eukaryote, with a short generation time, and\n",
    "two possible forms: an haploid one and a diploid one. Moreover, this organism can be easily\n",
    "cultured, and it has an important economic impact since it is extensively used for instance,\n",
    "in winemaking, baking, and brewing. Due to these characteristics, Saccharomyces cerevisiae\n",
    "is studied as an important model organism."
   ]
  },
  {
   "cell_type": "markdown",
   "metadata": {},
   "source": [
    "In this work we will study the \\textbf{gene regulatory network} of \\textit{Saccharomyces cerevisiae }, using graph theory algorithms. The files that are provided for this project have been used in [MCK+12] , as gold-standards to assess gene regulatory network inference algorithms, and they are the result of biological experiments based on ChIP binding data [MWG + 06], and systematic transcription factor deletions [HKI07]. Hereafter we describe each dataset in details:"
   ]
  },
  {
   "cell_type": "markdown",
   "metadata": {},
   "source": [
    "\\begin{itemize}\n",
    "\\item GRN_edges_S_cerevisiae.txt : contains the edges of the \\textit{ S. cervisiae} regulatory network (from transcription factors to target genes). The intended meaning is that if there is an edge between transcription factor X and the target gene A, then X regulates the transcription of A ;\n",
    "\n",
    "\\item net4_transcription_factors.tsv : Is a file containing in a single column the identifiers of the transcription factors of \\textit{S. cervisiae} that were studied ;\n",
    "\n",
    "\\item net4_gene_ids.tsv : The two previous files, use specific identifiers to denote genes, and this file contains the gene name associated to each gene identifier ;\n",
    "\n",
    "\\item go_slim_mapping.tab.txt : Only columns 0 and 5 will be used in this work. Column 0 contains the gene name, and column 5 contains its Gene Ontology (GO) annotation (http://www.geneontology.org/). Notice that two different rows may give for the same gene different Gene Ontology annotations. \n",
    "\\end{itemize}"
   ]
  },
  {
   "cell_type": "markdown",
   "metadata": {},
   "source": [
    "\\subsection{1.2 Exercices}"
   ]
  },
  {
   "cell_type": "markdown",
   "metadata": {},
   "source": [
    "### \\textbf{Exercise 1 : } Exploration and characterization of the gene regulatory network"
   ]
  },
  {
   "cell_type": "markdown",
   "metadata": {},
   "source": [
    "#### 1) Load the dataset and create a NetworkX graph instance."
   ]
  },
  {
   "cell_type": "markdown",
   "metadata": {},
   "source": [
    "On importe les datasets avec pandas : "
   ]
  },
  {
   "cell_type": "code",
   "execution_count": null,
   "metadata": {},
   "outputs": [],
   "source": [
    "GRN_edges_SC = pd.read_csv(\"./datas/GRN_edges_S_cerevisiae.txt\", sep = ',',  header=0)\n",
    "net4_transcription_factors = pd.read_csv(\"./datas/net4_transcription_factors.tsv\", sep = '\\n',  header=0) \n",
    "net4_gene_ids = pd.read_csv(\"./datas/net4_gene_ids.tsv\", sep = '\\t', header=0) \n",
    "go_slim_mappingtab = pd.read_csv(\"./datas/go_slim_mapping.tab.txt\", sep = '\\t', header=None) "
   ]
  },
  {
   "cell_type": "markdown",
   "metadata": {},
   "source": [
    "On vérifie que tout a bien été importé "
   ]
  },
  {
   "cell_type": "code",
   "execution_count": null,
   "metadata": {},
   "outputs": [],
   "source": [
    "GRN_edges_SC = GRN_edges_SC.iloc[:,1:]"
   ]
  },
  {
   "cell_type": "code",
   "execution_count": null,
   "metadata": {},
   "outputs": [],
   "source": [
    "# on peut transformer le df en array (au cas où si besoin)\n",
    "GRN_edges_SC_np = GRN_edges_SC.to_numpy()"
   ]
  },
  {
   "cell_type": "code",
   "execution_count": null,
   "metadata": {},
   "outputs": [],
   "source": [
    "net4_gene_ids.head()"
   ]
  },
  {
   "cell_type": "code",
   "execution_count": null,
   "metadata": {},
   "outputs": [],
   "source": [
    "net4_transcription_factors.head()"
   ]
  },
  {
   "cell_type": "code",
   "execution_count": null,
   "metadata": {},
   "outputs": [],
   "source": [
    "go_slim_mappingtab.head()"
   ]
  },
  {
   "cell_type": "code",
   "execution_count": null,
   "metadata": {},
   "outputs": [],
   "source": [
    "GRN_edges_SC.head()"
   ]
  },
  {
   "cell_type": "markdown",
   "metadata": {},
   "source": [
    "Le dataset a bien été importé, on créé donc un graphe $G = <V,E>$ dont l'ensemble des noeuds noté $V$ contient les facteurs de transcription et les gènes cibles et l'ensemble des arettes noté $E$ représente les régulations des gènes par les facteurs de transcription."
   ]
  },
  {
   "cell_type": "code",
   "execution_count": null,
   "metadata": {},
   "outputs": [],
   "source": [
    "G = nx.from_pandas_edgelist(GRN_edges_SC, \"transcription_factor\", \"target_gene\")"
   ]
  },
  {
   "cell_type": "markdown",
   "metadata": {},
   "source": [
    "#### 2) Plot the gene regulatory network,  the plot should be readable,  understandable,  andinformative.  Which information did you decide to convey in your plot?  Why?\n",
    "\n",
    "On représente le graphe G tel quel."
   ]
  },
  {
   "cell_type": "code",
   "execution_count": null,
   "metadata": {},
   "outputs": [],
   "source": [
    "#Premiere impression pour le graphe \n",
    "plt.figure(figsize=(15,8))\n",
    "nx.draw(G, node_size = 12)"
   ]
  },
  {
   "cell_type": "code",
   "execution_count": null,
   "metadata": {},
   "outputs": [],
   "source": [
    "#On transforme G en graphe dirigé (pas super utile et prend bcp de temps à charger)\n",
    "#G = nx.DiGraph(G)"
   ]
  },
  {
   "cell_type": "code",
   "execution_count": null,
   "metadata": {},
   "outputs": [],
   "source": [
    "#On rend le graphe plus lisible \n",
    "plt.figure(figsize=(18,10))\n",
    "pos = nx.spring_layout(G, k = 0.6,) #return the relative positions of the nodes,k = optimal distance between nodes\n",
    "nx.draw(G, node_size = 18, \n",
    "        pos = pos, \n",
    "        width = 0.4, \n",
    "        node_color = 'cyan',\n",
    "        edge_color = 'DarkSlateGray')"
   ]
  },
  {
   "cell_type": "markdown",
   "metadata": {},
   "source": [
    "Le graphe n'est pas lisible tel quel et ne donne aucune information sur la nature des données.\\\\\n",
    "\n",
    "L'ensemble $V$ peut être séparé en deux sous-ensembles :\n",
    "\\begin{itemize}\n",
    "    \\item $X$ : ensemble des facteurs de transcription ;\n",
    "    \\item $A$ : ensemble des gènes.\n",
    "\\end{itemize}\n",
    "Il serait donc plus isdjocospjdkpl de représenter les deux sous-ensembles $X$ et $A$ de façon distincte. "
   ]
  },
  {
   "cell_type": "markdown",
   "metadata": {},
   "source": [
    "##### Graphe bipartite :"
   ]
  },
  {
   "cell_type": "code",
   "execution_count": null,
   "metadata": {},
   "outputs": [],
   "source": [
    "from networkx.algorithms import bipartite"
   ]
  },
  {
   "cell_type": "code",
   "execution_count": null,
   "metadata": {},
   "outputs": [],
   "source": [
    "g = nx.Graph()"
   ]
  },
  {
   "cell_type": "code",
   "execution_count": null,
   "metadata": {},
   "outputs": [],
   "source": [
    "g.add_nodes_from(GRN_edges_SC['transcription_factor'], bipartite = 'transcription_factor')"
   ]
  },
  {
   "cell_type": "code",
   "execution_count": null,
   "metadata": {},
   "outputs": [],
   "source": [
    "g.add_nodes_from(GRN_edges_SC['target_gene'], bipartite = 'target_gene')"
   ]
  },
  {
   "cell_type": "code",
   "execution_count": null,
   "metadata": {},
   "outputs": [],
   "source": [
    "g.add_edges_from(zip(GRN_edges_SC['transcription_factor'], GRN_edges_SC['target_gene']))"
   ]
  },
  {
   "cell_type": "code",
   "execution_count": null,
   "metadata": {},
   "outputs": [],
   "source": [
    "#tf = transcription_factor\n",
    "tf_nodes = [ n for n in g.nodes() if g.nodes[n]\n",
    "            ['bipartite'] == 'transcription_factor']"
   ]
  },
  {
   "cell_type": "code",
   "execution_count": null,
   "metadata": {},
   "outputs": [],
   "source": [
    "# gn = gene = target_gene\n",
    "gn_nodes = [ n for n in g.nodes() if g.nodes[n]\n",
    "           ['bipartite'] == 'target_gene']"
   ]
  },
  {
   "cell_type": "code",
   "execution_count": null,
   "metadata": {},
   "outputs": [],
   "source": [
    "pos_ = nx.bipartite_layout(g, tf_nodes, scale = 1)"
   ]
  },
  {
   "cell_type": "markdown",
   "metadata": {},
   "source": [
    "Sur le graphe si-dessous, on réprésente la bipartie du graphe avec :\n",
    "    \\begin{itemize}\n",
    "        \\item À gauche les noeuds représentant les facteurs de transcription;\n",
    "        \\item À droite les noeuds représentant les gène cible pour une régulation.\n",
    "    \\end{itemize}\n",
    "Globalement (sur une vue d'ensemble) on remarque tout de suite que certain facteurs agissent sur un plus grand nombre de gène cibles que d'autres."
   ]
  },
  {
   "cell_type": "code",
   "execution_count": null,
   "metadata": {},
   "outputs": [],
   "source": [
    "plt.figure(figsize=(30,20))\n",
    "nx.draw(g, pos = pos_, node_size = 14,\n",
    "       node_color = 'forestgreen',\n",
    "       edge_color = 'darkblue',\n",
    "       width = 0.1)"
   ]
  },
  {
   "cell_type": "markdown",
   "metadata": {},
   "source": [
    "#### 3) Describe the network by computing pertinent local and global metrics,  explain your choices, represent the results graphically if necessary, and interpret the results."
   ]
  },
  {
   "cell_type": "markdown",
   "metadata": {},
   "source": [
    "Clustering coeff : en fait ça sert à R je crois vu kon a un bipartire"
   ]
  },
  {
   "cell_type": "code",
   "execution_count": null,
   "metadata": {},
   "outputs": [],
   "source": [
    "tf_clust = nx.clustering(G, tf_nodes)\n",
    "gn_clust = nx.clustering(G, gn_nodes)\n",
    "clustering = [[k for k in tf_clust.values()], [k for k in gn_clust.values()]]"
   ]
  },
  {
   "cell_type": "code",
   "execution_count": null,
   "metadata": {},
   "outputs": [],
   "source": [
    "sns.set_style(\"whitegrid\")\n",
    "\n",
    "plt.figure(figsize=(18,10))\n",
    "plt.xticks(fontsize=15)\n",
    "plt.yticks(fontsize=15)\n",
    "plt.xlabel(\"Clustering Coefficient\",fontsize=20)\n",
    "plt.ylabel(\"Nodes\",fontsize=20)\n",
    "plt.title(\"Histogram of clustering coefficients\", fontsize=20)\n",
    "\n",
    "x1 = clustering[1]\n",
    "x2 = clustering[0]\n",
    "plt.hist([x1, x2], color = ['coral', 'mediumorchid'], \n",
    "         edgecolor = 'black', label = [\"gene's nodes\", \"TGF's nodes\"])\n",
    "\n",
    "plt.legend()\n",
    "plt.show()"
   ]
  },
  {
   "cell_type": "code",
   "execution_count": null,
   "metadata": {},
   "outputs": [],
   "source": [
    "sns.set_style(\"whitegrid\")\n",
    "\n",
    "plt.figure(figsize=(18,10))\n",
    "plt.xticks(fontsize=15)\n",
    "plt.yticks(fontsize=15)\n",
    "plt.xlabel(\"Clustering Coefficient\",fontsize=20)\n",
    "plt.ylabel(\"Nodes\",fontsize=20)\n",
    "plt.title(\"Histogram of clustering coefficients\", fontsize=20)\n",
    "\n",
    "x1 = clustering[1]\n",
    "plt.hist(x1, color = ['coral'], \n",
    "         edgecolor = 'black', label = [\"gene's nodes\"])\n",
    "\n",
    "plt.legend()\n",
    "plt.show() "
   ]
  },
  {
   "cell_type": "code",
   "execution_count": null,
   "metadata": {},
   "outputs": [],
   "source": [
    " sns.set_style(\"whitegrid\")\n",
    "\n",
    "plt.figure(figsize=(18,10))\n",
    "plt.xticks(fontsize=15)\n",
    "plt.yticks(fontsize=15)\n",
    "plt.xlabel(\"Clustering Coefficient\",fontsize=20)\n",
    "plt.ylabel(\"Nodes\",fontsize=20)\n",
    "plt.title(\"Histogram of clustering coefficients\", fontsize=20)\n",
    "\n",
    "x2 = clustering[0]\n",
    "plt.hist(x2, color = ['blue'], \n",
    "         edgecolor = 'black', label = [\"TGF's nodes\"])\n",
    "\n",
    "plt.legend()\n",
    "plt.show()"
   ]
  },
  {
   "cell_type": "code",
   "execution_count": null,
   "metadata": {},
   "outputs": [],
   "source": [
    "plt.hist(clustering[1], alpha=0.6)\n",
    "plt.hist(clustering[0], alpha=0.6)\n",
    "plt.show()"
   ]
  },
  {
   "cell_type": "code",
   "execution_count": null,
   "metadata": {},
   "outputs": [],
   "source": [
    "print(np.mean(clustering[0]))\n",
    "print(np.mean(clustering[1]))"
   ]
  },
  {
   "cell_type": "code",
   "execution_count": null,
   "metadata": {},
   "outputs": [],
   "source": [
    "nx.average_clustering(G)"
   ]
  },
  {
   "cell_type": "code",
   "execution_count": null,
   "metadata": {},
   "outputs": [],
   "source": [
    "def overlap (G):\n",
    "    out = []\n",
    "    for couple in nx.utils.pairwise(G.nodes()):\n",
    "        n = 0\n",
    "        for nei in G[couple[0]]:\n",
    "            if nei in G[couple[1]]:\n",
    "                n+=1\n",
    "        if n == 0:\n",
    "            O = 0\n",
    "        elif  G.degree(couple[0]) <= 1 or G.degree(couple[1]) <= 1:\n",
    "            O = 0\n",
    "        elif (G.degree(couple[0])-1+G.degree(couple[1])-1-n) == 0:\n",
    "            print(G.degree(couple[0]),G.degree(couple[1]),n)\n",
    "            O=100\n",
    "        else :\n",
    "            O =  n/(G.degree(couple[0])-1+G.degree(couple[1])-1-n)\n",
    "        out.append((couple, O))\n",
    "    return out"
   ]
  },
  {
   "cell_type": "code",
   "execution_count": null,
   "metadata": {},
   "outputs": [],
   "source": [
    "overlap(G)"
   ]
  },
  {
   "cell_type": "code",
   "execution_count": null,
   "metadata": {},
   "outputs": [],
   "source": [
    "nx.closeness_centrality(G) # inverse de la dist moyenne entre n et les autre noeuds"
   ]
  },
  {
   "cell_type": "code",
   "execution_count": null,
   "metadata": {},
   "outputs": [],
   "source": [
    "nx.betweenness_centrality(G) # fraction of shortest paths that passes through n"
   ]
  },
  {
   "cell_type": "code",
   "execution_count": null,
   "metadata": {},
   "outputs": [],
   "source": [
    "nx.density(G)"
   ]
  },
  {
   "cell_type": "code",
   "execution_count": null,
   "metadata": {},
   "outputs": [],
   "source": [
    "RC = nx.rich_club_coefficient(G)"
   ]
  },
  {
   "cell_type": "code",
   "execution_count": null,
   "metadata": {},
   "outputs": [],
   "source": [
    "lists = sorted(RC.items()) # sorted by key, return a list of tuples\n",
    "\n",
    "x, y = zip(*lists) # unpack a list of pairs into two tuples\n",
    "\n",
    "plt.plot(x, y)\n",
    "plt.xlabel(\"Degree k\",fontsize=10)\n",
    "plt.ylabel(\"Rich Club Coefficient\",fontsize=10)\n",
    "plt.show()"
   ]
  },
  {
   "cell_type": "code",
   "execution_count": null,
   "metadata": {},
   "outputs": [],
   "source": [
    "def plot_degree_dist(G):\n",
    "    degrees = [G.degree(n) for n in G.nodes()]\n",
    "    plt.hist(degrees)\n",
    "    plt.show()"
   ]
  },
  {
   "cell_type": "code",
   "execution_count": null,
   "metadata": {},
   "outputs": [],
   "source": [
    "degree_freq = nx.degree_histogram(G)\n",
    "degrees = range(len(degree_freq))\n",
    "plt.figure(figsize=(12, 8)) \n",
    "plt.loglog(degrees, degree_freq) \n",
    "plt.xlabel('Degree')\n",
    "plt.ylabel('Frequency')"
   ]
  },
  {
   "cell_type": "markdown",
   "metadata": {},
   "source": [
    "#### 4) Implement and apply the k-shell decomposition algorithm."
   ]
  },
  {
   "cell_type": "markdown",
   "metadata": {},
   "source": [
    "We can first try to make a k-shell with a function \\textit{'k_shell'} directly implemented in the networkx.algorithms.core library, for different $k$."
   ]
  },
  {
   "cell_type": "code",
   "execution_count": null,
   "metadata": {},
   "outputs": [],
   "source": [
    "from networkx.algorithms.core import k_shell"
   ]
  },
  {
   "cell_type": "code",
   "execution_count": null,
   "metadata": {},
   "outputs": [],
   "source": [
    "nx.draw(nx.k_shell(G, k=2), node_size = 10)"
   ]
  },
  {
   "cell_type": "code",
   "execution_count": null,
   "metadata": {},
   "outputs": [],
   "source": [
    "nx.draw(k_shell(G, k=4), node_size = 10)"
   ]
  },
  {
   "cell_type": "code",
   "execution_count": null,
   "metadata": {},
   "outputs": [],
   "source": [
    "nx.draw(k_shell(G, k=6), node_size = 10)"
   ]
  },
  {
   "cell_type": "code",
   "execution_count": null,
   "metadata": {},
   "outputs": [],
   "source": [
    "nx.draw(k_shell(G, k=7), node_size = 10)"
   ]
  },
  {
   "cell_type": "markdown",
   "metadata": {},
   "source": [
    "For $k > 7$ there is no more node left."
   ]
  },
  {
   "cell_type": "markdown",
   "metadata": {},
   "source": [
    "Yet we try to implement ourself the \\textit{k_shell} fonction."
   ]
  },
  {
   "cell_type": "code",
   "execution_count": null,
   "metadata": {},
   "outputs": [],
   "source": [
    "def my_kshell (G, k) :\n",
    "    degrees = []\n",
    "    GG = nx.Graph()\n",
    "    GG.add_nodes_from(g)\n",
    "    GG.add_edges_from(g.edges)\n",
    "    \n",
    "    ik = 1\n",
    "    for ik in range(k):\n",
    "        done = False\n",
    "        while not done :\n",
    "            rm = []\n",
    "            for n in GG.nodes():\n",
    "                if GG.degree(n)<=ik:\n",
    "                    rm.append(n)\n",
    "            for m in rm:\n",
    "                GG.remove_node(m)\n",
    "            done = True\n",
    "            for n in GG.nodes():\n",
    "                if GG.degree(n)<=ik:\n",
    "                    done = False\n",
    "                    break\n",
    "            \n",
    "    return GG"
   ]
  },
  {
   "cell_type": "code",
   "execution_count": null,
   "metadata": {},
   "outputs": [],
   "source": [
    "new_G = my_kshell(G, 7)"
   ]
  },
  {
   "cell_type": "code",
   "execution_count": null,
   "metadata": {},
   "outputs": [],
   "source": [
    "nx.draw(new_G, node_size = 10)"
   ]
  },
  {
   "cell_type": "markdown",
   "metadata": {},
   "source": [
    "#### 5) For at least 4 of the metrics that you have used:  what is the time complexity of the algorithm that calculates it (explain)?"
   ]
  },
  {
   "cell_type": "markdown",
   "metadata": {},
   "source": [
    "### \\textbf{Exercise 2 : } Community detection\n",
    "\n",
    "#### 1) You can choose between the Girvan Newman method and the Louvain algorithm tofind communities in the graph. Describe both algorithms, and their time complexities (explain)."
   ]
  },
  {
   "cell_type": "markdown",
   "metadata": {},
   "source": [
    "#### The Girvan Newman method :"
   ]
  },
  {
   "cell_type": "markdown",
   "metadata": {},
   "source": [
    "We can express Girvan-Newman algorithm in the following procedure:\n",
    "\\begin{enumerate}\n",
    "    \\item Calculate edge betweenness for every edge in the graph ;\n",
    "    \\item Remove the edge with highest edge betweenness ;\n",
    "    \\item Calculate edge betweenness for remaining edges ;\n",
    "    \\item Repeat steps 2–4 until all edges are removed.\n",
    "\\end{enumerate}"
   ]
  },
  {
   "cell_type": "markdown",
   "metadata": {},
   "source": [
    "In its simplest and fastest form - worst-case time $O(E^{2}V$) on a network with $E$ edges and $V$ vertices, or $O(E^{3})$ on a sparse graph (where $V = E$).\n"
   ]
  },
  {
   "cell_type": "markdown",
   "metadata": {},
   "source": [
    "#### The Louvain algorithm :"
   ]
  },
  {
   "cell_type": "markdown",
   "metadata": {},
   "source": [
    "#### 2) Which algorithm did you choose, why ?"
   ]
  },
  {
   "cell_type": "markdown",
   "metadata": {},
   "source": [
    "#### 3) For the the Girvan Newman method, the user should select one of the output partitions, explain the criterion that could be used to make this choice, and its complexity."
   ]
  },
  {
   "cell_type": "markdown",
   "metadata": {},
   "source": [
    "#### 4) Study the GO composition of each community.  To do this you can produce a countingmatrix $M$,  such  that $M_{i,j}$ is  the  number  of  genes  from  community $j$ that  have  GO annotation $i^1$."
   ]
  },
  {
   "cell_type": "markdown",
   "metadata": {},
   "source": [
    "#### 5) Is there a relationship between graph communities and particular cell functions ?"
   ]
  },
  {
   "cell_type": "markdown",
   "metadata": {},
   "source": [
    "\\section{Around the Traveling Salesman Problem}\n",
    "    \\subsection{Introduction}\n",
    "#### Exact solution\n",
    "\n",
    "In a complete graph, every node is adjacent to every other node. Therefore, if we take all the nodes in a complete graph in any order, there will be a path through those nodes in that order. (Then, if we join either end of that path, it will give us a Hamilton path.) ?\n",
    "\n",
    "Let's define an Hamiltonian path $(n_0, n_1, n_2,...,n_n)$ in a complete graph of size $n$. There are $n$ possible starting nodes $n_0$. Then, as one of the $n$ nodes has already been visited, only $n-1$ options are left for $n_1$, $n-2$ for $n_2$ and so on until there is only one node left unvisited : $n_n$. Thus, there are $n\\times n-1 \\times n-2 \\times ... \\times 1 = n!$ distinct Hamiltonian paths in a complete graph of size $n$.\n",
    "\n",
    "\n",
    "In fact, not all these path possibilities are different. On any such cycle, there are:\n",
    "\\begin{itemize}\n",
    "    \\item $n$ differents nodes where you can start the path ;\n",
    "    \\item The path is reversible, you can travel it through $2$ directions.\n",
    "\\end{itemize}\n",
    "\n",
    "So any one of these $n!$ possible paths is in a set of $2n$ cycles which all contain the same set of edges.\n",
    "So finaly get $\\frac{n!}{2n} = \\frac{(n-1)!}{2}$ distinct Hamilton paths\n",
    "\n"
   ]
  },
  {
   "cell_type": "code",
   "execution_count": 39,
   "metadata": {
    "scrolled": true
   },
   "outputs": [
    {
     "data": {
      "text/plain": [
       "['a', 'b', 'c', 'd', 'e', 'f', 'g', 'h']"
      ]
     },
     "execution_count": 39,
     "metadata": {},
     "output_type": "execute_result"
    }
   ],
   "source": [
    "# Our complet graph (just a test for folowing algorithms)\n",
    "\n",
    "Gc = nx.Graph()\n",
    "Gc = nx.complete_graph(['a', 'b', 'c', 'd', 'e', 'f', 'g', 'h'])\n",
    "list(Gc.nodes())"
   ]
  },
  {
   "cell_type": "code",
   "execution_count": 44,
   "metadata": {},
   "outputs": [],
   "source": [
    "def add_weight(G) :\n",
    "    for e in G.edges():\n",
    "        G[e[0]][e[1]]['weight'] = random.randrange(0,10)+1\n",
    "        #print(e, Gc[e[0]][e[1]]['weight'])"
   ]
  },
  {
   "cell_type": "code",
   "execution_count": 46,
   "metadata": {
    "scrolled": true
   },
   "outputs": [],
   "source": [
    "def draw_weight(G):\n",
    "    wwidth = [d['weight'] for (u, v, d) in G.edges(data=True)]\n",
    "\n",
    "    pos = nx.spring_layout(G)  # positions for all nodes\n",
    "\n",
    "    # nodes\n",
    "    nx.draw_networkx_nodes(G, pos)\n",
    "\n",
    "    # edges\n",
    "    nx.draw_networkx_edges(G, pos, width=wwidth)\n",
    "\n",
    "\n",
    "    # labels\n",
    "    nx.draw_networkx_labels(G, pos, font_size=20, font_family=\"sans-serif\")\n",
    "\n",
    "    plt.axis(\"off\")\n",
    "    plt.show()\n"
   ]
  },
  {
   "cell_type": "code",
   "execution_count": 45,
   "metadata": {},
   "outputs": [],
   "source": [
    "add_weight(Gc)"
   ]
  },
  {
   "cell_type": "code",
   "execution_count": 51,
   "metadata": {},
   "outputs": [
    {
     "data": {
      "image/png": "[encoded data removed]",
      "text/plain": [
       "<Figure size 432x288 with 1 Axes>"
      ]
     },
     "metadata": {},
     "output_type": "display_data"
    }
   ],
   "source": [
    "draw_weight(Gc)"
   ]
  },
  {
   "cell_type": "code",
   "execution_count": 4,
   "metadata": {},
   "outputs": [],
   "source": [
    "def hamilton(G, pt):\n",
    "    #pt : starting point\n",
    "    F = [(G,[list(G.nodes())[pt]])]\n",
    "    n = G.number_of_nodes()\n",
    "    while F:\n",
    "        graph,path = F.pop()\n",
    "        temp = []\n",
    "        neighbors = (node for node in graph.neighbors(path[-1]) if node != path[-1]) #exclude self loops\n",
    "        for neighbor in neighbors:\n",
    "            cppath = path + [] \n",
    "            cppath.append(neighbor)\n",
    "            cpgraph = nx.Graph(graph)\n",
    "            cpgraph.remove_node(path[-1])\n",
    "            temp.append((cpgraph, cppath))\n",
    "        for g,p in temp:\n",
    "            if len(p) == n:\n",
    "                return (p)\n",
    "            else:\n",
    "                F.append((g,p))"
   ]
  },
  {
   "cell_type": "code",
   "execution_count": 5,
   "metadata": {
    "scrolled": true
   },
   "outputs": [
    {
     "data": {
      "text/plain": [
       "['b', 'h', 'g', 'f', 'e', 'd', 'c', 'a']"
      ]
     },
     "execution_count": 5,
     "metadata": {},
     "output_type": "execute_result"
    }
   ],
   "source": [
    "hamilton(Gc, 1)"
   ]
  },
  {
   "cell_type": "code",
   "execution_count": 6,
   "metadata": {},
   "outputs": [],
   "source": [
    "Gtest = nx.petersen_graph()"
   ]
  },
  {
   "cell_type": "code",
   "execution_count": 48,
   "metadata": {},
   "outputs": [],
   "source": [
    "add_weight(Gtest)"
   ]
  },
  {
   "cell_type": "code",
   "execution_count": 49,
   "metadata": {},
   "outputs": [
    {
     "data": {
      "image/png": "[encoded data removed]",
      "text/plain": [
       "<Figure size 432x288 with 1 Axes>"
      ]
     },
     "metadata": {},
     "output_type": "display_data"
    }
   ],
   "source": [
    "draw_weight(Gtest)"
   ]
  },
  {
   "cell_type": "code",
   "execution_count": 8,
   "metadata": {},
   "outputs": [],
   "source": [
    "def succ(G, si, pred) : # returns successors of si that are not in pred\n",
    " \n",
    "    si_succ_init = [s for s in G[si]]\n",
    "    si_succ = []\n",
    "    \n",
    "    for sj in si_succ_init :\n",
    "        if sj not in pred :\n",
    "            si_succ.append(sj)\n",
    "            \n",
    "    return si_succ"
   ]
  },
  {
   "cell_type": "code",
   "execution_count": 92,
   "metadata": {},
   "outputs": [],
   "source": [
    "def next_step(G, si, pred, path, weight, path_weight) :\n",
    "    if len(pred)>0 :\n",
    "        sp = pred[len(pred)-1]\n",
    "        si_w = G[sp][si]['weight']\n",
    "        weight = weight + si_w\n",
    "    pred = pred + [si] # si is added to the predecessor list\n",
    "    si_succ = succ(G, si, pred) # successors of si that are not in pred\n",
    "    \n",
    "    for sj in si_succ :\n",
    "        next_step(G, sj, pred, path, weight, path_weight)\n",
    "    \n",
    "    # when each branch has been visited as deep as possible, the list of predecessor is added to path\n",
    "    if len(si_succ) == 0 :\n",
    "        path.append(pred)\n",
    "        path_weight.append((pred, weight))\n",
    "    \n",
    "    return None"
   ]
  },
  {
   "cell_type": "code",
   "execution_count": 93,
   "metadata": {},
   "outputs": [],
   "source": [
    "def find_path(G, s0) :\n",
    "    pred = []   \n",
    "    si = s0\n",
    "    path = []\n",
    "    path_weight = []\n",
    "    weight = 0\n",
    "    \n",
    "    next_step(G, s0, pred, path, weight, path_weight)\n",
    "        \n",
    "    return path_weight"
   ]
  },
  {
   "cell_type": "code",
   "execution_count": 94,
   "metadata": {},
   "outputs": [],
   "source": [
    "def Hamiltonian_path(G, s0) :\n",
    "    # filters out all paths that passes through less nodes than n, with n the number of nodes in G\n",
    "    \n",
    "    n = len(G.nodes())\n",
    "    path = find_path(G, s0)\n",
    "    ham_path = []\n",
    "    \n",
    "    for tup in path :\n",
    "        if len(tup[0]) >= n :\n",
    "            ham_path.append(tup)\n",
    "            \n",
    "    return ham_path"
   ]
  },
  {
   "cell_type": "code",
   "execution_count": 95,
   "metadata": {
    "scrolled": true
   },
   "outputs": [
    {
     "data": {
      "text/plain": [
       "[([1, 0, 4, 3, 2, 7, 5, 8, 6, 9], 71),\n",
       " ([1, 0, 4, 3, 2, 7, 9, 6, 8, 5], 67),\n",
       " ([1, 0, 4, 9, 6, 8, 3, 2, 7, 5], 71),\n",
       " ([1, 0, 4, 9, 6, 8, 5, 7, 2, 3], 70),\n",
       " ([1, 0, 5, 7, 2, 3, 4, 9, 6, 8], 67),\n",
       " ([1, 0, 5, 7, 2, 3, 8, 6, 9, 4], 68),\n",
       " ([1, 0, 5, 8, 6, 9, 4, 3, 2, 7], 67),\n",
       " ([1, 0, 5, 8, 6, 9, 7, 2, 3, 4], 64),\n",
       " ([1, 2, 3, 4, 0, 5, 7, 9, 6, 8], 65),\n",
       " ([1, 2, 3, 4, 0, 5, 8, 6, 9, 7], 65),\n",
       " ([1, 2, 3, 8, 6, 9, 4, 0, 5, 7], 69),\n",
       " ([1, 2, 3, 8, 6, 9, 7, 5, 0, 4], 66),\n",
       " ([1, 2, 7, 5, 0, 4, 3, 8, 6, 9], 71),\n",
       " ([1, 2, 7, 5, 0, 4, 9, 6, 8, 3], 70),\n",
       " ([1, 2, 7, 9, 6, 8, 3, 4, 0, 5], 67),\n",
       " ([1, 2, 7, 9, 6, 8, 5, 0, 4, 3], 66),\n",
       " ([1, 6, 8, 3, 2, 7, 5, 0, 4, 9], 65),\n",
       " ([1, 6, 8, 3, 2, 7, 9, 4, 0, 5], 61),\n",
       " ([1, 6, 8, 5, 0, 4, 3, 2, 7, 9], 61),\n",
       " ([1, 6, 8, 5, 0, 4, 9, 7, 2, 3], 60),\n",
       " ([1, 6, 9, 4, 0, 5, 7, 2, 3, 8], 71),\n",
       " ([1, 6, 9, 4, 0, 5, 8, 3, 2, 7], 71),\n",
       " ([1, 6, 9, 7, 2, 3, 4, 0, 5, 8], 67),\n",
       " ([1, 6, 9, 7, 2, 3, 8, 5, 0, 4], 68)]"
      ]
     },
     "execution_count": 95,
     "metadata": {},
     "output_type": "execute_result"
    }
   ],
   "source": [
    "Hamiltonian_path(Gtest, 1)"
   ]
  },
  {
   "cell_type": "code",
   "execution_count": 96,
   "metadata": {},
   "outputs": [
    {
     "data": {
      "text/plain": [
       "[(['a', 'b', 'c', 'd', 'e', 'f', 'g', 'h'], 36),\n",
       " (['a', 'b', 'c', 'd', 'e', 'f', 'h', 'g'], 35),\n",
       " (['a', 'b', 'c', 'd', 'e', 'g', 'f', 'h'], 34),\n",
       " (['a', 'b', 'c', 'd', 'e', 'g', 'h', 'f'], 36),\n",
       " (['a', 'b', 'c', 'd', 'e', 'h', 'f', 'g'], 33),\n",
       " (['a', 'b', 'c', 'd', 'e', 'h', 'g', 'f'], 36),\n",
       " (['a', 'b', 'c', 'd', 'f', 'e', 'g', 'h'], 40),\n",
       " (['a', 'b', 'c', 'd', 'f', 'e', 'h', 'g'], 39),\n",
       " (['a', 'b', 'c', 'd', 'f', 'g', 'e', 'h'], 38),\n",
       " (['a', 'b', 'c', 'd', 'f', 'g', 'h', 'e'], 37),\n",
       " (['a', 'b', 'c', 'd', 'f', 'h', 'e', 'g'], 37),\n",
       " (['a', 'b', 'c', 'd', 'f', 'h', 'g', 'e'], 37),\n",
       " (['a', 'b', 'c', 'd', 'g', 'e', 'f', 'h'], 40),\n",
       " (['a', 'b', 'c', 'd', 'g', 'e', 'h', 'f'], 40),\n",
       " (['a', 'b', 'c', 'd', 'g', 'f', 'e', 'h'], 40),\n",
       " (['a', 'b', 'c', 'd', 'g', 'f', 'h', 'e'], 37),\n",
       " (['a', 'b', 'c', 'd', 'g', 'h', 'e', 'f'], 42),\n",
       " (['a', 'b', 'c', 'd', 'g', 'h', 'f', 'e'], 39),\n",
       " (['a', 'b', 'c', 'd', 'h', 'e', 'f', 'g'], 43),\n",
       " (['a', 'b', 'c', 'd', 'h', 'e', 'g', 'f'], 44),\n",
       " (['a', 'b', 'c', 'd', 'h', 'f', 'e', 'g'], 43),\n",
       " (['a', 'b', 'c', 'd', 'h', 'f', 'g', 'e'], 41),\n",
       " (['a', 'b', 'c', 'd', 'h', 'g', 'e', 'f'], 46),\n",
       " (['a', 'b', 'c', 'd', 'h', 'g', 'f', 'e'], 43),\n",
       " (['a', 'b', 'c', 'e', 'd', 'f', 'g', 'h'], 34),\n",
       " (['a', 'b', 'c', 'e', 'd', 'f', 'h', 'g'], 33),\n",
       " (['a', 'b', 'c', 'e', 'd', 'g', 'f', 'h'], 34),\n",
       " (['a', 'b', 'c', 'e', 'd', 'g', 'h', 'f'], 36),\n",
       " (['a', 'b', 'c', 'e', 'd', 'h', 'f', 'g'], 37),\n",
       " (['a', 'b', 'c', 'e', 'd', 'h', 'g', 'f'], 40),\n",
       " (['a', 'b', 'c', 'e', 'f', 'd', 'g', 'h'], 40),\n",
       " (['a', 'b', 'c', 'e', 'f', 'd', 'h', 'g'], 43),\n",
       " (['a', 'b', 'c', 'e', 'f', 'g', 'd', 'h'], 44),\n",
       " (['a', 'b', 'c', 'e', 'f', 'g', 'h', 'd'], 44),\n",
       " (['a', 'b', 'c', 'e', 'f', 'h', 'd', 'g'], 43),\n",
       " (['a', 'b', 'c', 'e', 'f', 'h', 'g', 'd'], 40),\n",
       " (['a', 'b', 'c', 'e', 'g', 'd', 'f', 'h'], 38),\n",
       " (['a', 'b', 'c', 'e', 'g', 'd', 'h', 'f'], 44),\n",
       " (['a', 'b', 'c', 'e', 'g', 'f', 'd', 'h'], 42),\n",
       " (['a', 'b', 'c', 'e', 'g', 'f', 'h', 'd'], 42),\n",
       " (['a', 'b', 'c', 'e', 'g', 'h', 'd', 'f'], 44),\n",
       " (['a', 'b', 'c', 'e', 'g', 'h', 'f', 'd'], 38),\n",
       " (['a', 'b', 'c', 'e', 'h', 'd', 'f', 'g'], 41),\n",
       " (['a', 'b', 'c', 'e', 'h', 'd', 'g', 'f'], 44),\n",
       " (['a', 'b', 'c', 'e', 'h', 'f', 'd', 'g'], 37),\n",
       " (['a', 'b', 'c', 'e', 'h', 'f', 'g', 'd'], 38),\n",
       " (['a', 'b', 'c', 'e', 'h', 'g', 'd', 'f'], 40),\n",
       " (['a', 'b', 'c', 'e', 'h', 'g', 'f', 'd'], 38),\n",
       " (['a', 'b', 'c', 'f', 'd', 'e', 'g', 'h'], 44),\n",
       " (['a', 'b', 'c', 'f', 'd', 'e', 'h', 'g'], 43),\n",
       " (['a', 'b', 'c', 'f', 'd', 'g', 'e', 'h'], 48),\n",
       " (['a', 'b', 'c', 'f', 'd', 'g', 'h', 'e'], 47),\n",
       " (['a', 'b', 'c', 'f', 'd', 'h', 'e', 'g'], 51),\n",
       " (['a', 'b', 'c', 'f', 'd', 'h', 'g', 'e'], 51),\n",
       " (['a', 'b', 'c', 'f', 'e', 'd', 'g', 'h'], 46),\n",
       " (['a', 'b', 'c', 'f', 'e', 'd', 'h', 'g'], 49),\n",
       " (['a', 'b', 'c', 'f', 'e', 'g', 'd', 'h'], 54),\n",
       " (['a', 'b', 'c', 'f', 'e', 'g', 'h', 'd'], 54),\n",
       " (['a', 'b', 'c', 'f', 'e', 'h', 'd', 'g'], 53),\n",
       " (['a', 'b', 'c', 'f', 'e', 'h', 'g', 'd'], 50),\n",
       " (['a', 'b', 'c', 'f', 'g', 'd', 'e', 'h'], 44),\n",
       " (['a', 'b', 'c', 'f', 'g', 'd', 'h', 'e'], 51),\n",
       " (['a', 'b', 'c', 'f', 'g', 'e', 'd', 'h'], 48),\n",
       " (['a', 'b', 'c', 'f', 'g', 'e', 'h', 'd'], 52),\n",
       " (['a', 'b', 'c', 'f', 'g', 'h', 'd', 'e'], 47),\n",
       " (['a', 'b', 'c', 'f', 'g', 'h', 'e', 'd'], 44),\n",
       " (['a', 'b', 'c', 'f', 'h', 'd', 'e', 'g'], 47),\n",
       " (['a', 'b', 'c', 'f', 'h', 'd', 'g', 'e'], 51),\n",
       " (['a', 'b', 'c', 'f', 'h', 'e', 'd', 'g'], 43),\n",
       " (['a', 'b', 'c', 'f', 'h', 'e', 'g', 'd'], 48),\n",
       " (['a', 'b', 'c', 'f', 'h', 'g', 'd', 'e'], 43),\n",
       " (['a', 'b', 'c', 'f', 'h', 'g', 'e', 'd'], 44),\n",
       " (['a', 'b', 'c', 'g', 'd', 'e', 'f', 'h'], 35),\n",
       " (['a', 'b', 'c', 'g', 'd', 'e', 'h', 'f'], 35),\n",
       " (['a', 'b', 'c', 'g', 'd', 'f', 'e', 'h'], 39),\n",
       " (['a', 'b', 'c', 'g', 'd', 'f', 'h', 'e'], 36),\n",
       " (['a', 'b', 'c', 'g', 'd', 'h', 'e', 'f'], 45),\n",
       " (['a', 'b', 'c', 'g', 'd', 'h', 'f', 'e'], 42),\n",
       " (['a', 'b', 'c', 'g', 'e', 'd', 'f', 'h'], 33),\n",
       " (['a', 'b', 'c', 'g', 'e', 'd', 'h', 'f'], 39),\n",
       " (['a', 'b', 'c', 'g', 'e', 'f', 'd', 'h'], 43),\n",
       " (['a', 'b', 'c', 'g', 'e', 'f', 'h', 'd'], 43),\n",
       " (['a', 'b', 'c', 'g', 'e', 'h', 'd', 'f'], 43),\n",
       " (['a', 'b', 'c', 'g', 'e', 'h', 'f', 'd'], 37),\n",
       " (['a', 'b', 'c', 'g', 'f', 'd', 'e', 'h'], 33),\n",
       " (['a', 'b', 'c', 'g', 'f', 'd', 'h', 'e'], 40),\n",
       " (['a', 'b', 'c', 'g', 'f', 'e', 'd', 'h'], 39),\n",
       " (['a', 'b', 'c', 'g', 'f', 'e', 'h', 'd'], 43),\n",
       " (['a', 'b', 'c', 'g', 'f', 'h', 'd', 'e'], 36),\n",
       " (['a', 'b', 'c', 'g', 'f', 'h', 'e', 'd'], 33),\n",
       " (['a', 'b', 'c', 'g', 'h', 'd', 'e', 'f'], 41),\n",
       " (['a', 'b', 'c', 'g', 'h', 'd', 'f', 'e'], 42),\n",
       " (['a', 'b', 'c', 'g', 'h', 'e', 'd', 'f'], 35),\n",
       " (['a', 'b', 'c', 'g', 'h', 'e', 'f', 'd'], 39),\n",
       " (['a', 'b', 'c', 'g', 'h', 'f', 'd', 'e'], 32),\n",
       " (['a', 'b', 'c', 'g', 'h', 'f', 'e', 'd'], 35),\n",
       " (['a', 'b', 'c', 'h', 'd', 'e', 'f', 'g'], 47),\n",
       " (['a', 'b', 'c', 'h', 'd', 'e', 'g', 'f'], 48),\n",
       " (['a', 'b', 'c', 'h', 'd', 'f', 'e', 'g'], 51),\n",
       " (['a', 'b', 'c', 'h', 'd', 'f', 'g', 'e'], 49),\n",
       " (['a', 'b', 'c', 'h', 'd', 'g', 'e', 'f'], 54),\n",
       " (['a', 'b', 'c', 'h', 'd', 'g', 'f', 'e'], 51),\n",
       " (['a', 'b', 'c', 'h', 'e', 'd', 'f', 'g'], 41),\n",
       " (['a', 'b', 'c', 'h', 'e', 'd', 'g', 'f'], 44),\n",
       " (['a', 'b', 'c', 'h', 'e', 'f', 'd', 'g'], 47),\n",
       " (['a', 'b', 'c', 'h', 'e', 'f', 'g', 'd'], 48),\n",
       " (['a', 'b', 'c', 'h', 'e', 'g', 'd', 'f'], 48),\n",
       " (['a', 'b', 'c', 'h', 'e', 'g', 'f', 'd'], 46),\n",
       " (['a', 'b', 'c', 'h', 'f', 'd', 'e', 'g'], 41),\n",
       " (['a', 'b', 'c', 'h', 'f', 'd', 'g', 'e'], 45),\n",
       " (['a', 'b', 'c', 'h', 'f', 'e', 'd', 'g'], 43),\n",
       " (['a', 'b', 'c', 'h', 'f', 'e', 'g', 'd'], 48),\n",
       " (['a', 'b', 'c', 'h', 'f', 'g', 'd', 'e'], 41),\n",
       " (['a', 'b', 'c', 'h', 'f', 'g', 'e', 'd'], 42),\n",
       " (['a', 'b', 'c', 'h', 'g', 'd', 'e', 'f'], 46),\n",
       " (['a', 'b', 'c', 'h', 'g', 'd', 'f', 'e'], 47),\n",
       " (['a', 'b', 'c', 'h', 'g', 'e', 'd', 'f'], 44),\n",
       " (['a', 'b', 'c', 'h', 'g', 'e', 'f', 'd'], 48),\n",
       " (['a', 'b', 'c', 'h', 'g', 'f', 'd', 'e'], 41),\n",
       " (['a', 'b', 'c', 'h', 'g', 'f', 'e', 'd'], 44),\n",
       " (['a', 'b', 'd', 'c', 'e', 'f', 'g', 'h'], 38),\n",
       " (['a', 'b', 'd', 'c', 'e', 'f', 'h', 'g'], 37),\n",
       " (['a', 'b', 'd', 'c', 'e', 'g', 'f', 'h'], 36),\n",
       " (['a', 'b', 'd', 'c', 'e', 'g', 'h', 'f'], 38),\n",
       " (['a', 'b', 'd', 'c', 'e', 'h', 'f', 'g'], 35),\n",
       " (['a', 'b', 'd', 'c', 'e', 'h', 'g', 'f'], 38),\n",
       " (['a', 'b', 'd', 'c', 'f', 'e', 'g', 'h'], 48),\n",
       " (['a', 'b', 'd', 'c', 'f', 'e', 'h', 'g'], 47),\n",
       " (['a', 'b', 'd', 'c', 'f', 'g', 'e', 'h'], 46),\n",
       " (['a', 'b', 'd', 'c', 'f', 'g', 'h', 'e'], 45),\n",
       " (['a', 'b', 'd', 'c', 'f', 'h', 'e', 'g'], 45),\n",
       " (['a', 'b', 'd', 'c', 'f', 'h', 'g', 'e'], 45),\n",
       " (['a', 'b', 'd', 'c', 'g', 'e', 'f', 'h'], 37),\n",
       " (['a', 'b', 'd', 'c', 'g', 'e', 'h', 'f'], 37),\n",
       " (['a', 'b', 'd', 'c', 'g', 'f', 'e', 'h'], 37),\n",
       " (['a', 'b', 'd', 'c', 'g', 'f', 'h', 'e'], 34),\n",
       " (['a', 'b', 'd', 'c', 'g', 'h', 'e', 'f'], 39),\n",
       " (['a', 'b', 'd', 'c', 'g', 'h', 'f', 'e'], 36),\n",
       " (['a', 'b', 'd', 'c', 'h', 'e', 'f', 'g'], 45),\n",
       " (['a', 'b', 'd', 'c', 'h', 'e', 'g', 'f'], 46),\n",
       " (['a', 'b', 'd', 'c', 'h', 'f', 'e', 'g'], 45),\n",
       " (['a', 'b', 'd', 'c', 'h', 'f', 'g', 'e'], 43),\n",
       " (['a', 'b', 'd', 'c', 'h', 'g', 'e', 'f'], 48),\n",
       " (['a', 'b', 'd', 'c', 'h', 'g', 'f', 'e'], 45),\n",
       " (['a', 'b', 'd', 'e', 'c', 'f', 'g', 'h'], 42),\n",
       " (['a', 'b', 'd', 'e', 'c', 'f', 'h', 'g'], 41),\n",
       " (['a', 'b', 'd', 'e', 'c', 'g', 'f', 'h'], 31),\n",
       " (['a', 'b', 'd', 'e', 'c', 'g', 'h', 'f'], 33),\n",
       " (['a', 'b', 'd', 'e', 'c', 'h', 'f', 'g'], 39),\n",
       " (['a', 'b', 'd', 'e', 'c', 'h', 'g', 'f'], 42),\n",
       " (['a', 'b', 'd', 'e', 'f', 'c', 'g', 'h'], 43),\n",
       " (['a', 'b', 'd', 'e', 'f', 'c', 'h', 'g'], 51),\n",
       " (['a', 'b', 'd', 'e', 'f', 'g', 'c', 'h'], 41),\n",
       " (['a', 'b', 'd', 'e', 'f', 'g', 'h', 'c'], 46),\n",
       " (['a', 'b', 'd', 'e', 'f', 'h', 'c', 'g'], 40),\n",
       " (['a', 'b', 'd', 'e', 'f', 'h', 'g', 'c'], 37),\n",
       " (['a', 'b', 'd', 'e', 'g', 'c', 'f', 'h'], 41),\n",
       " (['a', 'b', 'd', 'e', 'g', 'c', 'h', 'f'], 41),\n",
       " (['a', 'b', 'd', 'e', 'g', 'f', 'c', 'h'], 50),\n",
       " (['a', 'b', 'd', 'e', 'g', 'f', 'h', 'c'], 44),\n",
       " (['a', 'b', 'd', 'e', 'g', 'h', 'c', 'f'], 52),\n",
       " (['a', 'b', 'd', 'e', 'g', 'h', 'f', 'c'], 46),\n",
       " (['a', 'b', 'd', 'e', 'h', 'c', 'f', 'g'], 49),\n",
       " (['a', 'b', 'd', 'e', 'h', 'c', 'g', 'f'], 41),\n",
       " (['a', 'b', 'd', 'e', 'h', 'f', 'c', 'g'], 40),\n",
       " (['a', 'b', 'd', 'e', 'h', 'f', 'g', 'c'], 35),\n",
       " (['a', 'b', 'd', 'e', 'h', 'g', 'c', 'f'], 43),\n",
       " (['a', 'b', 'd', 'e', 'h', 'g', 'f', 'c'], 46),\n",
       " (['a', 'b', 'd', 'f', 'c', 'e', 'g', 'h'], 46),\n",
       " (['a', 'b', 'd', 'f', 'c', 'e', 'h', 'g'], 45),\n",
       " (['a', 'b', 'd', 'f', 'c', 'g', 'e', 'h'], 45),\n",
       " (['a', 'b', 'd', 'f', 'c', 'g', 'h', 'e'], 44),\n",
       " (['a', 'b', 'd', 'f', 'c', 'h', 'e', 'g'], 53),\n",
       " (['a', 'b', 'd', 'f', 'c', 'h', 'g', 'e'], 53),\n",
       " (['a', 'b', 'd', 'f', 'e', 'c', 'g', 'h'], 37),\n",
       " (['a', 'b', 'd', 'f', 'e', 'c', 'h', 'g'], 45),\n",
       " (['a', 'b', 'd', 'f', 'e', 'g', 'c', 'h'], 45),\n",
       " (['a', 'b', 'd', 'f', 'e', 'g', 'h', 'c'], 50),\n",
       " (['a', 'b', 'd', 'f', 'e', 'h', 'c', 'g'], 44),\n",
       " (['a', 'b', 'd', 'f', 'e', 'h', 'g', 'c'], 41),\n",
       " (['a', 'b', 'd', 'f', 'g', 'c', 'e', 'h'], 35),\n",
       " (['a', 'b', 'd', 'f', 'g', 'c', 'h', 'e'], 42),\n",
       " (['a', 'b', 'd', 'f', 'g', 'e', 'c', 'h'], 44),\n",
       " (['a', 'b', 'd', 'f', 'g', 'e', 'h', 'c'], 48),\n",
       " (['a', 'b', 'd', 'f', 'g', 'h', 'c', 'e'], 43),\n",
       " (['a', 'b', 'd', 'f', 'g', 'h', 'e', 'c'], 40),\n",
       " (['a', 'b', 'd', 'f', 'h', 'c', 'e', 'g'], 43),\n",
       " (['a', 'b', 'd', 'f', 'h', 'c', 'g', 'e'], 42),\n",
       " (['a', 'b', 'd', 'f', 'h', 'e', 'c', 'g'], 34),\n",
       " (['a', 'b', 'd', 'f', 'h', 'e', 'g', 'c'], 39),\n",
       " (['a', 'b', 'd', 'f', 'h', 'g', 'c', 'e'], 34),\n",
       " (['a', 'b', 'd', 'f', 'h', 'g', 'e', 'c'], 40),\n",
       " (['a', 'b', 'd', 'g', 'c', 'e', 'f', 'h'], 37),\n",
       " (['a', 'b', 'd', 'g', 'c', 'e', 'h', 'f'], 37),\n",
       " (['a', 'b', 'd', 'g', 'c', 'f', 'e', 'h'], 47),\n",
       " (['a', 'b', 'd', 'g', 'c', 'f', 'h', 'e'], 44),\n",
       " (['a', 'b', 'd', 'g', 'c', 'h', 'e', 'f'], 47),\n",
       " (['a', 'b', 'd', 'g', 'c', 'h', 'f', 'e'], 44),\n",
       " (['a', 'b', 'd', 'g', 'e', 'c', 'f', 'h'], 46),\n",
       " (['a', 'b', 'd', 'g', 'e', 'c', 'h', 'f'], 46),\n",
       " (['a', 'b', 'd', 'g', 'e', 'f', 'c', 'h'], 56),\n",
       " (['a', 'b', 'd', 'g', 'e', 'f', 'h', 'c'], 50),\n",
       " (['a', 'b', 'd', 'g', 'e', 'h', 'c', 'f'], 56),\n",
       " (['a', 'b', 'd', 'g', 'e', 'h', 'f', 'c'], 50),\n",
       " (['a', 'b', 'd', 'g', 'f', 'c', 'e', 'h'], 46),\n",
       " (['a', 'b', 'd', 'g', 'f', 'c', 'h', 'e'], 53),\n",
       " (['a', 'b', 'd', 'g', 'f', 'e', 'c', 'h'], 46),\n",
       " (['a', 'b', 'd', 'g', 'f', 'e', 'h', 'c'], 50),\n",
       " (['a', 'b', 'd', 'g', 'f', 'h', 'c', 'e'], 43),\n",
       " (['a', 'b', 'd', 'g', 'f', 'h', 'e', 'c'], 40),\n",
       " (['a', 'b', 'd', 'g', 'h', 'c', 'e', 'f'], 48),\n",
       " (['a', 'b', 'd', 'g', 'h', 'c', 'f', 'e'], 55),\n",
       " (['a', 'b', 'd', 'g', 'h', 'e', 'c', 'f'], 48),\n",
       " (['a', 'b', 'd', 'g', 'h', 'e', 'f', 'c'], 52),\n",
       " (['a', 'b', 'd', 'g', 'h', 'f', 'c', 'e'], 45),\n",
       " (['a', 'b', 'd', 'g', 'h', 'f', 'e', 'c'], 42),\n",
       " (['a', 'b', 'd', 'h', 'c', 'e', 'f', 'g'], 49),\n",
       " (['a', 'b', 'd', 'h', 'c', 'e', 'g', 'f'], 50),\n",
       " (['a', 'b', 'd', 'h', 'c', 'f', 'e', 'g'], 59),\n",
       " (['a', 'b', 'd', 'h', 'c', 'f', 'g', 'e'], 57),\n",
       " (['a', 'b', 'd', 'h', 'c', 'g', 'e', 'f'], 51),\n",
       " (['a', 'b', 'd', 'h', 'c', 'g', 'f', 'e'], 48),\n",
       " (['a', 'b', 'd', 'h', 'e', 'c', 'f', 'g'], 49),\n",
       " (['a', 'b', 'd', 'h', 'e', 'c', 'g', 'f'], 41),\n",
       " (['a', 'b', 'd', 'h', 'e', 'f', 'c', 'g'], 50),\n",
       " (['a', 'b', 'd', 'h', 'e', 'f', 'g', 'c'], 45),\n",
       " (['a', 'b', 'd', 'h', 'e', 'g', 'c', 'f'], 51),\n",
       " (['a', 'b', 'd', 'h', 'e', 'g', 'f', 'c'], 54),\n",
       " (['a', 'b', 'd', 'h', 'f', 'c', 'e', 'g'], 49),\n",
       " (['a', 'b', 'd', 'h', 'f', 'c', 'g', 'e'], 48),\n",
       " (['a', 'b', 'd', 'h', 'f', 'e', 'c', 'g'], 40),\n",
       " (['a', 'b', 'd', 'h', 'f', 'e', 'g', 'c'], 45),\n",
       " (['a', 'b', 'd', 'h', 'f', 'g', 'c', 'e'], 38),\n",
       " (['a', 'b', 'd', 'h', 'f', 'g', 'e', 'c'], 44),\n",
       " (['a', 'b', 'd', 'h', 'g', 'c', 'e', 'f'], 43),\n",
       " (['a', 'b', 'd', 'h', 'g', 'c', 'f', 'e'], 50),\n",
       " (['a', 'b', 'd', 'h', 'g', 'e', 'c', 'f'], 52),\n",
       " (['a', 'b', 'd', 'h', 'g', 'e', 'f', 'c'], 56),\n",
       " (['a', 'b', 'd', 'h', 'g', 'f', 'c', 'e'], 49),\n",
       " (['a', 'b', 'd', 'h', 'g', 'f', 'e', 'c'], 46),\n",
       " (['a', 'b', 'e', 'c', 'd', 'f', 'g', 'h'], 30),\n",
       " (['a', 'b', 'e', 'c', 'd', 'f', 'h', 'g'], 29),\n",
       " (['a', 'b', 'e', 'c', 'd', 'g', 'f', 'h'], 30),\n",
       " (['a', 'b', 'e', 'c', 'd', 'g', 'h', 'f'], 32),\n",
       " (['a', 'b', 'e', 'c', 'd', 'h', 'f', 'g'], 33),\n",
       " (['a', 'b', 'e', 'c', 'd', 'h', 'g', 'f'], 36),\n",
       " (['a', 'b', 'e', 'c', 'f', 'd', 'g', 'h'], 40),\n",
       " (['a', 'b', 'e', 'c', 'f', 'd', 'h', 'g'], 43),\n",
       " (['a', 'b', 'e', 'c', 'f', 'g', 'd', 'h'], 44),\n",
       " (['a', 'b', 'e', 'c', 'f', 'g', 'h', 'd'], 44),\n",
       " (['a', 'b', 'e', 'c', 'f', 'h', 'd', 'g'], 43),\n",
       " (['a', 'b', 'e', 'c', 'f', 'h', 'g', 'd'], 40),\n",
       " (['a', 'b', 'e', 'c', 'g', 'd', 'f', 'h'], 29),\n",
       " (['a', 'b', 'e', 'c', 'g', 'd', 'h', 'f'], 35),\n",
       " (['a', 'b', 'e', 'c', 'g', 'f', 'd', 'h'], 33),\n",
       " (['a', 'b', 'e', 'c', 'g', 'f', 'h', 'd'], 33),\n",
       " (['a', 'b', 'e', 'c', 'g', 'h', 'd', 'f'], 35),\n",
       " (['a', 'b', 'e', 'c', 'g', 'h', 'f', 'd'], 29),\n",
       " (['a', 'b', 'e', 'c', 'h', 'd', 'f', 'g'], 41),\n",
       " (['a', 'b', 'e', 'c', 'h', 'd', 'g', 'f'], 44),\n",
       " (['a', 'b', 'e', 'c', 'h', 'f', 'd', 'g'], 37),\n",
       " (['a', 'b', 'e', 'c', 'h', 'f', 'g', 'd'], 38),\n",
       " (['a', 'b', 'e', 'c', 'h', 'g', 'd', 'f'], 40),\n",
       " (['a', 'b', 'e', 'c', 'h', 'g', 'f', 'd'], 38),\n",
       " (['a', 'b', 'e', 'd', 'c', 'f', 'g', 'h'], 36),\n",
       " (['a', 'b', 'e', 'd', 'c', 'f', 'h', 'g'], 35),\n",
       " (['a', 'b', 'e', 'd', 'c', 'g', 'f', 'h'], 25),\n",
       " (['a', 'b', 'e', 'd', 'c', 'g', 'h', 'f'], 27),\n",
       " (['a', 'b', 'e', 'd', 'c', 'h', 'f', 'g'], 33),\n",
       " (['a', 'b', 'e', 'd', 'c', 'h', 'g', 'f'], 36),\n",
       " (['a', 'b', 'e', 'd', 'f', 'c', 'g', 'h'], 35),\n",
       " (['a', 'b', 'e', 'd', 'f', 'c', 'h', 'g'], 43),\n",
       " (['a', 'b', 'e', 'd', 'f', 'g', 'c', 'h'], 33),\n",
       " (['a', 'b', 'e', 'd', 'f', 'g', 'h', 'c'], 38),\n",
       " (['a', 'b', 'e', 'd', 'f', 'h', 'c', 'g'], 32),\n",
       " (['a', 'b', 'e', 'd', 'f', 'h', 'g', 'c'], 29),\n",
       " (['a', 'b', 'e', 'd', 'g', 'c', 'f', 'h'], 35),\n",
       " (['a', 'b', 'e', 'd', 'g', 'c', 'h', 'f'], 35),\n",
       " (['a', 'b', 'e', 'd', 'g', 'f', 'c', 'h'], 44),\n",
       " (['a', 'b', 'e', 'd', 'g', 'f', 'h', 'c'], 38),\n",
       " (['a', 'b', 'e', 'd', 'g', 'h', 'c', 'f'], 46),\n",
       " (['a', 'b', 'e', 'd', 'g', 'h', 'f', 'c'], 40),\n",
       " (['a', 'b', 'e', 'd', 'h', 'c', 'f', 'g'], 47),\n",
       " (['a', 'b', 'e', 'd', 'h', 'c', 'g', 'f'], 39),\n",
       " (['a', 'b', 'e', 'd', 'h', 'f', 'c', 'g'], 38),\n",
       " (['a', 'b', 'e', 'd', 'h', 'f', 'g', 'c'], 33),\n",
       " (['a', 'b', 'e', 'd', 'h', 'g', 'c', 'f'], 41),\n",
       " (['a', 'b', 'e', 'd', 'h', 'g', 'f', 'c'], 44),\n",
       " (['a', 'b', 'e', 'f', 'c', 'd', 'g', 'h'], 42),\n",
       " (['a', 'b', 'e', 'f', 'c', 'd', 'h', 'g'], 45),\n",
       " (['a', 'b', 'e', 'f', 'c', 'g', 'd', 'h'], 45),\n",
       " (['a', 'b', 'e', 'f', 'c', 'g', 'h', 'd'], 45),\n",
       " (['a', 'b', 'e', 'f', 'c', 'h', 'd', 'g'], 53),\n",
       " (['a', 'b', 'e', 'f', 'c', 'h', 'g', 'd'], 50),\n",
       " (['a', 'b', 'e', 'f', 'd', 'c', 'g', 'h'], 31),\n",
       " (['a', 'b', 'e', 'f', 'd', 'c', 'h', 'g'], 39),\n",
       " (['a', 'b', 'e', 'f', 'd', 'g', 'c', 'h'], 39),\n",
       " (['a', 'b', 'e', 'f', 'd', 'g', 'h', 'c'], 44),\n",
       " (['a', 'b', 'e', 'f', 'd', 'h', 'c', 'g'], 42),\n",
       " (['a', 'b', 'e', 'f', 'd', 'h', 'g', 'c'], 39),\n",
       " (['a', 'b', 'e', 'f', 'g', 'c', 'd', 'h'], 35),\n",
       " (['a', 'b', 'e', 'f', 'g', 'c', 'h', 'd'], 43),\n",
       " (['a', 'b', 'e', 'f', 'g', 'd', 'c', 'h'], 40),\n",
       " (['a', 'b', 'e', 'f', 'g', 'd', 'h', 'c'], 48),\n",
       " (['a', 'b', 'e', 'f', 'g', 'h', 'c', 'd'], 40),\n",
       " (['a', 'b', 'e', 'f', 'g', 'h', 'd', 'c'], 40),\n",
       " (['a', 'b', 'e', 'f', 'h', 'c', 'd', 'g'], 39),\n",
       " (['a', 'b', 'e', 'f', 'h', 'c', 'g', 'd'], 39),\n",
       " (['a', 'b', 'e', 'f', 'h', 'd', 'c', 'g'], 34),\n",
       " (['a', 'b', 'e', 'f', 'h', 'd', 'g', 'c'], 39),\n",
       " (['a', 'b', 'e', 'f', 'h', 'g', 'c', 'd'], 31),\n",
       " (['a', 'b', 'e', 'f', 'h', 'g', 'd', 'c'], 36),\n",
       " (['a', 'b', 'e', 'g', 'c', 'd', 'f', 'h'], 29),\n",
       " (['a', 'b', 'e', 'g', 'c', 'd', 'h', 'f'], 35),\n",
       " (['a', 'b', 'e', 'g', 'c', 'f', 'd', 'h'], 43),\n",
       " (['a', 'b', 'e', 'g', 'c', 'f', 'h', 'd'], 43),\n",
       " (['a', 'b', 'e', 'g', 'c', 'h', 'd', 'f'], 43),\n",
       " (['a', 'b', 'e', 'g', 'c', 'h', 'f', 'd'], 37),\n",
       " (['a', 'b', 'e', 'g', 'd', 'c', 'f', 'h'], 40),\n",
       " (['a', 'b', 'e', 'g', 'd', 'c', 'h', 'f'], 40),\n",
       " (['a', 'b', 'e', 'g', 'd', 'f', 'c', 'h'], 48),\n",
       " (['a', 'b', 'e', 'g', 'd', 'f', 'h', 'c'], 42),\n",
       " (['a', 'b', 'e', 'g', 'd', 'h', 'c', 'f'], 54),\n",
       " (['a', 'b', 'e', 'g', 'd', 'h', 'f', 'c'], 48),\n",
       " (['a', 'b', 'e', 'g', 'f', 'c', 'd', 'h'], 44),\n",
       " (['a', 'b', 'e', 'g', 'f', 'c', 'h', 'd'], 52),\n",
       " (['a', 'b', 'e', 'g', 'f', 'd', 'c', 'h'], 38),\n",
       " (['a', 'b', 'e', 'g', 'f', 'd', 'h', 'c'], 46),\n",
       " (['a', 'b', 'e', 'g', 'f', 'h', 'c', 'd'], 38),\n",
       " (['a', 'b', 'e', 'g', 'f', 'h', 'd', 'c'], 38),\n",
       " (['a', 'b', 'e', 'g', 'h', 'c', 'd', 'f'], 40),\n",
       " (['a', 'b', 'e', 'g', 'h', 'c', 'f', 'd'], 48),\n",
       " (['a', 'b', 'e', 'g', 'h', 'd', 'c', 'f'], 46),\n",
       " (['a', 'b', 'e', 'g', 'h', 'd', 'f', 'c'], 48),\n",
       " (['a', 'b', 'e', 'g', 'h', 'f', 'c', 'd'], 40),\n",
       " (['a', 'b', 'e', 'g', 'h', 'f', 'd', 'c'], 34),\n",
       " (['a', 'b', 'e', 'h', 'c', 'd', 'f', 'g'], 37),\n",
       " (['a', 'b', 'e', 'h', 'c', 'd', 'g', 'f'], 40),\n",
       " (['a', 'b', 'e', 'h', 'c', 'f', 'd', 'g'], 47),\n",
       " (['a', 'b', 'e', 'h', 'c', 'f', 'g', 'd'], 48),\n",
       " (['a', 'b', 'e', 'h', 'c', 'g', 'd', 'f'], 39),\n",
       " (['a', 'b', 'e', 'h', 'c', 'g', 'f', 'd'], 37),\n",
       " (['a', 'b', 'e', 'h', 'd', 'c', 'f', 'g'], 43),\n",
       " (['a', 'b', 'e', 'h', 'd', 'c', 'g', 'f'], 35),\n",
       " (['a', 'b', 'e', 'h', 'd', 'f', 'c', 'g'], 42),\n",
       " (['a', 'b', 'e', 'h', 'd', 'f', 'g', 'c'], 37),\n",
       " (['a', 'b', 'e', 'h', 'd', 'g', 'c', 'f'], 45),\n",
       " (['a', 'b', 'e', 'h', 'd', 'g', 'f', 'c'], 48),\n",
       " (['a', 'b', 'e', 'h', 'f', 'c', 'd', 'g'], 39),\n",
       " (['a', 'b', 'e', 'h', 'f', 'c', 'g', 'd'], 39),\n",
       " (['a', 'b', 'e', 'h', 'f', 'd', 'c', 'g'], 28),\n",
       " (['a', 'b', 'e', 'h', 'f', 'd', 'g', 'c'], 33),\n",
       " (['a', 'b', 'e', 'h', 'f', 'g', 'c', 'd'], 29),\n",
       " (['a', 'b', 'e', 'h', 'f', 'g', 'd', 'c'], 34),\n",
       " (['a', 'b', 'e', 'h', 'g', 'c', 'd', 'f'], 31),\n",
       " (['a', 'b', 'e', 'h', 'g', 'c', 'f', 'd'], 39),\n",
       " (['a', 'b', 'e', 'h', 'g', 'd', 'c', 'f'], 42),\n",
       " (['a', 'b', 'e', 'h', 'g', 'd', 'f', 'c'], 44),\n",
       " (['a', 'b', 'e', 'h', 'g', 'f', 'c', 'd'], 40),\n",
       " (['a', 'b', 'e', 'h', 'g', 'f', 'd', 'c'], 34),\n",
       " (['a', 'b', 'f', 'c', 'd', 'e', 'g', 'h'], 41),\n",
       " (['a', 'b', 'f', 'c', 'd', 'e', 'h', 'g'], 40),\n",
       " (['a', 'b', 'f', 'c', 'd', 'g', 'e', 'h'], 45),\n",
       " (['a', 'b', 'f', 'c', 'd', 'g', 'h', 'e'], 44),\n",
       " (['a', 'b', 'f', 'c', 'd', 'h', 'e', 'g'], 48),\n",
       " (['a', 'b', 'f', 'c', 'd', 'h', 'g', 'e'], 48),\n",
       " (['a', 'b', 'f', 'c', 'e', 'd', 'g', 'h'], 41),\n",
       " (['a', 'b', 'f', 'c', 'e', 'd', 'h', 'g'], 44),\n",
       " (['a', 'b', 'f', 'c', 'e', 'g', 'd', 'h'], 49),\n",
       " (['a', 'b', 'f', 'c', 'e', 'g', 'h', 'd'], 49),\n",
       " (['a', 'b', 'f', 'c', 'e', 'h', 'd', 'g'], 48),\n",
       " (['a', 'b', 'f', 'c', 'e', 'h', 'g', 'd'], 45),\n",
       " (['a', 'b', 'f', 'c', 'g', 'd', 'e', 'h'], 40),\n",
       " (['a', 'b', 'f', 'c', 'g', 'd', 'h', 'e'], 47),\n",
       " (['a', 'b', 'f', 'c', 'g', 'e', 'd', 'h'], 44),\n",
       " (['a', 'b', 'f', 'c', 'g', 'e', 'h', 'd'], 48),\n",
       " (['a', 'b', 'f', 'c', 'g', 'h', 'd', 'e'], 43),\n",
       " (['a', 'b', 'f', 'c', 'g', 'h', 'e', 'd'], 40),\n",
       " (['a', 'b', 'f', 'c', 'h', 'd', 'e', 'g'], 52),\n",
       " (['a', 'b', 'f', 'c', 'h', 'd', 'g', 'e'], 56),\n",
       " (['a', 'b', 'f', 'c', 'h', 'e', 'd', 'g'], 48),\n",
       " (['a', 'b', 'f', 'c', 'h', 'e', 'g', 'd'], 53),\n",
       " (['a', 'b', 'f', 'c', 'h', 'g', 'd', 'e'], 48),\n",
       " (['a', 'b', 'f', 'c', 'h', 'g', 'e', 'd'], 49),\n",
       " (['a', 'b', 'f', 'd', 'c', 'e', 'g', 'h'], 35),\n",
       " (['a', 'b', 'f', 'd', 'c', 'e', 'h', 'g'], 34),\n",
       " (['a', 'b', 'f', 'd', 'c', 'g', 'e', 'h'], 34),\n",
       " (['a', 'b', 'f', 'd', 'c', 'g', 'h', 'e'], 33),\n",
       " (['a', 'b', 'f', 'd', 'c', 'h', 'e', 'g'], 42),\n",
       " (['a', 'b', 'f', 'd', 'c', 'h', 'g', 'e'], 42),\n",
       " (['a', 'b', 'f', 'd', 'e', 'c', 'g', 'h'], 30),\n",
       " (['a', 'b', 'f', 'd', 'e', 'c', 'h', 'g'], 38),\n",
       " (['a', 'b', 'f', 'd', 'e', 'g', 'c', 'h'], 38),\n",
       " (['a', 'b', 'f', 'd', 'e', 'g', 'h', 'c'], 43),\n",
       " (['a', 'b', 'f', 'd', 'e', 'h', 'c', 'g'], 37),\n",
       " (['a', 'b', 'f', 'd', 'e', 'h', 'g', 'c'], 34),\n",
       " (['a', 'b', 'f', 'd', 'g', 'c', 'e', 'h'], 34),\n",
       " (['a', 'b', 'f', 'd', 'g', 'c', 'h', 'e'], 41),\n",
       " (['a', 'b', 'f', 'd', 'g', 'e', 'c', 'h'], 43),\n",
       " (['a', 'b', 'f', 'd', 'g', 'e', 'h', 'c'], 47),\n",
       " (['a', 'b', 'f', 'd', 'g', 'h', 'c', 'e'], 42),\n",
       " (['a', 'b', 'f', 'd', 'g', 'h', 'e', 'c'], 39),\n",
       " (['a', 'b', 'f', 'd', 'h', 'c', 'e', 'g'], 46),\n",
       " (['a', 'b', 'f', 'd', 'h', 'c', 'g', 'e'], 45),\n",
       " (['a', 'b', 'f', 'd', 'h', 'e', 'c', 'g'], 37),\n",
       " (['a', 'b', 'f', 'd', 'h', 'e', 'g', 'c'], 42),\n",
       " (['a', 'b', 'f', 'd', 'h', 'g', 'c', 'e'], 37),\n",
       " (['a', 'b', 'f', 'd', 'h', 'g', 'e', 'c'], 43),\n",
       " (['a', 'b', 'f', 'e', 'c', 'd', 'g', 'h'], 37),\n",
       " (['a', 'b', 'f', 'e', 'c', 'd', 'h', 'g'], 40),\n",
       " (['a', 'b', 'f', 'e', 'c', 'g', 'd', 'h'], 40),\n",
       " (['a', 'b', 'f', 'e', 'c', 'g', 'h', 'd'], 40),\n",
       " (['a', 'b', 'f', 'e', 'c', 'h', 'd', 'g'], 48),\n",
       " (['a', 'b', 'f', 'e', 'c', 'h', 'g', 'd'], 45),\n",
       " (['a', 'b', 'f', 'e', 'd', 'c', 'g', 'h'], 32),\n",
       " (['a', 'b', 'f', 'e', 'd', 'c', 'h', 'g'], 40),\n",
       " (['a', 'b', 'f', 'e', 'd', 'g', 'c', 'h'], 40),\n",
       " (['a', 'b', 'f', 'e', 'd', 'g', 'h', 'c'], 45),\n",
       " (['a', 'b', 'f', 'e', 'd', 'h', 'c', 'g'], 43),\n",
       " (['a', 'b', 'f', 'e', 'd', 'h', 'g', 'c'], 40),\n",
       " (['a', 'b', 'f', 'e', 'g', 'c', 'd', 'h'], 40),\n",
       " (['a', 'b', 'f', 'e', 'g', 'c', 'h', 'd'], 48),\n",
       " (['a', 'b', 'f', 'e', 'g', 'd', 'c', 'h'], 45),\n",
       " (['a', 'b', 'f', 'e', 'g', 'd', 'h', 'c'], 53),\n",
       " (['a', 'b', 'f', 'e', 'g', 'h', 'c', 'd'], 45),\n",
       " (['a', 'b', 'f', 'e', 'g', 'h', 'd', 'c'], 45),\n",
       " (['a', 'b', 'f', 'e', 'h', 'c', 'd', 'g'], 44),\n",
       " (['a', 'b', 'f', 'e', 'h', 'c', 'g', 'd'], 44),\n",
       " (['a', 'b', 'f', 'e', 'h', 'd', 'c', 'g'], 39),\n",
       " (['a', 'b', 'f', 'e', 'h', 'd', 'g', 'c'], 44),\n",
       " (['a', 'b', 'f', 'e', 'h', 'g', 'c', 'd'], 36),\n",
       " (['a', 'b', 'f', 'e', 'h', 'g', 'd', 'c'], 41),\n",
       " (['a', 'b', 'f', 'g', 'c', 'd', 'e', 'h'], 30),\n",
       " (['a', 'b', 'f', 'g', 'c', 'd', 'h', 'e'], 37),\n",
       " (['a', 'b', 'f', 'g', 'c', 'e', 'd', 'h'], 34),\n",
       " (['a', 'b', 'f', 'g', 'c', 'e', 'h', 'd'], 38),\n",
       " (['a', 'b', 'f', 'g', 'c', 'h', 'd', 'e'], 41),\n",
       " (['a', 'b', 'f', 'g', 'c', 'h', 'e', 'd'], 38),\n",
       " (['a', 'b', 'f', 'g', 'd', 'c', 'e', 'h'], 35),\n",
       " (['a', 'b', 'f', 'g', 'd', 'c', 'h', 'e'], 42),\n",
       " (['a', 'b', 'f', 'g', 'd', 'e', 'c', 'h'], 39),\n",
       " (['a', 'b', 'f', 'g', 'd', 'e', 'h', 'c'], 43),\n",
       " (['a', 'b', 'f', 'g', 'd', 'h', 'c', 'e'], 46),\n",
       " (['a', 'b', 'f', 'g', 'd', 'h', 'e', 'c'], 43),\n",
       " (['a', 'b', 'f', 'g', 'e', 'c', 'd', 'h'], 39),\n",
       " (['a', 'b', 'f', 'g', 'e', 'c', 'h', 'd'], 47),\n",
       " (['a', 'b', 'f', 'g', 'e', 'd', 'c', 'h'], 39),\n",
       " (['a', 'b', 'f', 'g', 'e', 'd', 'h', 'c'], 47),\n",
       " (['a', 'b', 'f', 'g', 'e', 'h', 'c', 'd'], 43),\n",
       " (['a', 'b', 'f', 'g', 'e', 'h', 'd', 'c'], 43),\n",
       " (['a', 'b', 'f', 'g', 'h', 'c', 'd', 'e'], 38),\n",
       " (['a', 'b', 'f', 'g', 'h', 'c', 'e', 'd'], 39),\n",
       " (['a', 'b', 'f', 'g', 'h', 'd', 'c', 'e'], 38),\n",
       " (['a', 'b', 'f', 'g', 'h', 'd', 'e', 'c'], 39),\n",
       " (['a', 'b', 'f', 'g', 'h', 'e', 'c', 'd'], 35),\n",
       " (['a', 'b', 'f', 'g', 'h', 'e', 'd', 'c'], 35),\n",
       " (['a', 'b', 'f', 'h', 'c', 'd', 'e', 'g'], 38),\n",
       " (['a', 'b', 'f', 'h', 'c', 'd', 'g', 'e'], 42),\n",
       " (['a', 'b', 'f', 'h', 'c', 'e', 'd', 'g'], 38),\n",
       " (['a', 'b', 'f', 'h', 'c', 'e', 'g', 'd'], 43),\n",
       " (['a', 'b', 'f', 'h', 'c', 'g', 'd', 'e'], 37),\n",
       " (['a', 'b', 'f', 'h', 'c', 'g', 'e', 'd'], 38),\n",
       " (['a', 'b', 'f', 'h', 'd', 'c', 'e', 'g'], 38),\n",
       " (['a', 'b', 'f', 'h', 'd', 'c', 'g', 'e'], 37),\n",
       " (['a', 'b', 'f', 'h', 'd', 'e', 'c', 'g'], 33),\n",
       " (['a', 'b', 'f', 'h', 'd', 'e', 'g', 'c'], 38),\n",
       " (['a', 'b', 'f', 'h', 'd', 'g', 'c', 'e'], 37),\n",
       " (['a', 'b', 'f', 'h', 'd', 'g', 'e', 'c'], 43),\n",
       " (['a', 'b', 'f', 'h', 'e', 'c', 'd', 'g'], 34),\n",
       " (['a', 'b', 'f', 'h', 'e', 'c', 'g', 'd'], 34),\n",
       " (['a', 'b', 'f', 'h', 'e', 'd', 'c', 'g'], 29),\n",
       " (['a', 'b', 'f', 'h', 'e', 'd', 'g', 'c'], 34),\n",
       " (['a', 'b', 'f', 'h', 'e', 'g', 'c', 'd'], 34),\n",
       " (['a', 'b', 'f', 'h', 'e', 'g', 'd', 'c'], 39),\n",
       " (['a', 'b', 'f', 'h', 'g', 'c', 'd', 'e'], 29),\n",
       " (['a', 'b', 'f', 'h', 'g', 'c', 'e', 'd'], 30),\n",
       " (['a', 'b', 'f', 'h', 'g', 'd', 'c', 'e'], 34),\n",
       " (['a', 'b', 'f', 'h', 'g', 'd', 'e', 'c'], 35),\n",
       " (['a', 'b', 'f', 'h', 'g', 'e', 'c', 'd'], 35),\n",
       " (['a', 'b', 'f', 'h', 'g', 'e', 'd', 'c'], 35),\n",
       " (['a', 'b', 'g', 'c', 'd', 'e', 'f', 'h'], 27),\n",
       " (['a', 'b', 'g', 'c', 'd', 'e', 'h', 'f'], 27),\n",
       " (['a', 'b', 'g', 'c', 'd', 'f', 'e', 'h'], 31),\n",
       " (['a', 'b', 'g', 'c', 'd', 'f', 'h', 'e'], 28),\n",
       " (['a', 'b', 'g', 'c', 'd', 'h', 'e', 'f'], 37),\n",
       " (['a', 'b', 'g', 'c', 'd', 'h', 'f', 'e'], 34),\n",
       " (['a', 'b', 'g', 'c', 'e', 'd', 'f', 'h'], 25),\n",
       " (['a', 'b', 'g', 'c', 'e', 'd', 'h', 'f'], 31),\n",
       " (['a', 'b', 'g', 'c', 'e', 'f', 'd', 'h'], 35),\n",
       " (['a', 'b', 'g', 'c', 'e', 'f', 'h', 'd'], 35),\n",
       " (['a', 'b', 'g', 'c', 'e', 'h', 'd', 'f'], 35),\n",
       " (['a', 'b', 'g', 'c', 'e', 'h', 'f', 'd'], 29),\n",
       " (['a', 'b', 'g', 'c', 'f', 'd', 'e', 'h'], 35),\n",
       " (['a', 'b', 'g', 'c', 'f', 'd', 'h', 'e'], 42),\n",
       " (['a', 'b', 'g', 'c', 'f', 'e', 'd', 'h'], 41),\n",
       " (['a', 'b', 'g', 'c', 'f', 'e', 'h', 'd'], 45),\n",
       " (['a', 'b', 'g', 'c', 'f', 'h', 'd', 'e'], 38),\n",
       " (['a', 'b', 'g', 'c', 'f', 'h', 'e', 'd'], 35),\n",
       " (['a', 'b', 'g', 'c', 'h', 'd', 'e', 'f'], 41),\n",
       " (['a', 'b', 'g', 'c', 'h', 'd', 'f', 'e'], 42),\n",
       " (['a', 'b', 'g', 'c', 'h', 'e', 'd', 'f'], 35),\n",
       " (['a', 'b', 'g', 'c', 'h', 'e', 'f', 'd'], 39),\n",
       " (['a', 'b', 'g', 'c', 'h', 'f', 'd', 'e'], 32),\n",
       " (['a', 'b', 'g', 'c', 'h', 'f', 'e', 'd'], 35),\n",
       " (['a', 'b', 'g', 'd', 'c', 'e', 'f', 'h'], 32),\n",
       " (['a', 'b', 'g', 'd', 'c', 'e', 'h', 'f'], 32),\n",
       " (['a', 'b', 'g', 'd', 'c', 'f', 'e', 'h'], 42),\n",
       " (['a', 'b', 'g', 'd', 'c', 'f', 'h', 'e'], 39),\n",
       " (['a', 'b', 'g', 'd', 'c', 'h', 'e', 'f'], 42),\n",
       " (['a', 'b', 'g', 'd', 'c', 'h', 'f', 'e'], 39),\n",
       " (['a', 'b', 'g', 'd', 'e', 'c', 'f', 'h'], 36),\n",
       " (['a', 'b', 'g', 'd', 'e', 'c', 'h', 'f'], 36),\n",
       " (['a', 'b', 'g', 'd', 'e', 'f', 'c', 'h'], 46),\n",
       " (['a', 'b', 'g', 'd', 'e', 'f', 'h', 'c'], 40),\n",
       " (['a', 'b', 'g', 'd', 'e', 'h', 'c', 'f'], 46),\n",
       " (['a', 'b', 'g', 'd', 'e', 'h', 'f', 'c'], 40),\n",
       " (['a', 'b', 'g', 'd', 'f', 'c', 'e', 'h'], 40),\n",
       " (['a', 'b', 'g', 'd', 'f', 'c', 'h', 'e'], 47),\n",
       " (['a', 'b', 'g', 'd', 'f', 'e', 'c', 'h'], 40),\n",
       " (['a', 'b', 'g', 'd', 'f', 'e', 'h', 'c'], 44),\n",
       " (['a', 'b', 'g', 'd', 'f', 'h', 'c', 'e'], 37),\n",
       " (['a', 'b', 'g', 'd', 'f', 'h', 'e', 'c'], 34),\n",
       " (['a', 'b', 'g', 'd', 'h', 'c', 'e', 'f'], 46),\n",
       " (['a', 'b', 'g', 'd', 'h', 'c', 'f', 'e'], 53),\n",
       " (['a', 'b', 'g', 'd', 'h', 'e', 'c', 'f'], 46),\n",
       " (['a', 'b', 'g', 'd', 'h', 'e', 'f', 'c'], 50),\n",
       " (['a', 'b', 'g', 'd', 'h', 'f', 'c', 'e'], 43),\n",
       " (['a', 'b', 'g', 'd', 'h', 'f', 'e', 'c'], 40),\n",
       " (['a', 'b', 'g', 'e', 'c', 'd', 'f', 'h'], 30),\n",
       " (['a', 'b', 'g', 'e', 'c', 'd', 'h', 'f'], 36),\n",
       " (['a', 'b', 'g', 'e', 'c', 'f', 'd', 'h'], 44),\n",
       " (['a', 'b', 'g', 'e', 'c', 'f', 'h', 'd'], 44),\n",
       " (['a', 'b', 'g', 'e', 'c', 'h', 'd', 'f'], 44),\n",
       " (['a', 'b', 'g', 'e', 'c', 'h', 'f', 'd'], 38),\n",
       " (['a', 'b', 'g', 'e', 'd', 'c', 'f', 'h'], 36),\n",
       " (['a', 'b', 'g', 'e', 'd', 'c', 'h', 'f'], 36),\n",
       " (['a', 'b', 'g', 'e', 'd', 'f', 'c', 'h'], 44),\n",
       " (['a', 'b', 'g', 'e', 'd', 'f', 'h', 'c'], 38),\n",
       " (['a', 'b', 'g', 'e', 'd', 'h', 'c', 'f'], 50),\n",
       " (['a', 'b', 'g', 'e', 'd', 'h', 'f', 'c'], 44),\n",
       " (['a', 'b', 'g', 'e', 'f', 'c', 'd', 'h'], 46),\n",
       " (['a', 'b', 'g', 'e', 'f', 'c', 'h', 'd'], 54),\n",
       " (['a', 'b', 'g', 'e', 'f', 'd', 'c', 'h'], 40),\n",
       " (['a', 'b', 'g', 'e', 'f', 'd', 'h', 'c'], 48),\n",
       " (['a', 'b', 'g', 'e', 'f', 'h', 'c', 'd'], 40),\n",
       " (['a', 'b', 'g', 'e', 'f', 'h', 'd', 'c'], 40),\n",
       " (['a', 'b', 'g', 'e', 'h', 'c', 'd', 'f'], 40),\n",
       " (['a', 'b', 'g', 'e', 'h', 'c', 'f', 'd'], 48),\n",
       " (['a', 'b', 'g', 'e', 'h', 'd', 'c', 'f'], 46),\n",
       " (['a', 'b', 'g', 'e', 'h', 'd', 'f', 'c'], 48),\n",
       " (['a', 'b', 'g', 'e', 'h', 'f', 'c', 'd'], 40),\n",
       " (['a', 'b', 'g', 'e', 'h', 'f', 'd', 'c'], 34),\n",
       " (['a', 'b', 'g', 'f', 'c', 'd', 'e', 'h'], 36),\n",
       " (['a', 'b', 'g', 'f', 'c', 'd', 'h', 'e'], 43),\n",
       " (['a', 'b', 'g', 'f', 'c', 'e', 'd', 'h'], 40),\n",
       " (['a', 'b', 'g', 'f', 'c', 'e', 'h', 'd'], 44),\n",
       " (['a', 'b', 'g', 'f', 'c', 'h', 'd', 'e'], 47),\n",
       " (['a', 'b', 'g', 'f', 'c', 'h', 'e', 'd'], 44),\n",
       " (['a', 'b', 'g', 'f', 'd', 'c', 'e', 'h'], 30),\n",
       " (['a', 'b', 'g', 'f', 'd', 'c', 'h', 'e'], 37),\n",
       " (['a', 'b', 'g', 'f', 'd', 'e', 'c', 'h'], 34),\n",
       " (['a', 'b', 'g', 'f', 'd', 'e', 'h', 'c'], 38),\n",
       " (['a', 'b', 'g', 'f', 'd', 'h', 'c', 'e'], 41),\n",
       " (['a', 'b', 'g', 'f', 'd', 'h', 'e', 'c'], 38),\n",
       " (['a', 'b', 'g', 'f', 'e', 'c', 'd', 'h'], 36),\n",
       " (['a', 'b', 'g', 'f', 'e', 'c', 'h', 'd'], 44),\n",
       " (['a', 'b', 'g', 'f', 'e', 'd', 'c', 'h'], 36),\n",
       " (['a', 'b', 'g', 'f', 'e', 'd', 'h', 'c'], 44),\n",
       " (['a', 'b', 'g', 'f', 'e', 'h', 'c', 'd'], 40),\n",
       " (['a', 'b', 'g', 'f', 'e', 'h', 'd', 'c'], 40),\n",
       " (['a', 'b', 'g', 'f', 'h', 'c', 'd', 'e'], 33),\n",
       " (['a', 'b', 'g', 'f', 'h', 'c', 'e', 'd'], 34),\n",
       " (['a', 'b', 'g', 'f', 'h', 'd', 'c', 'e'], 33),\n",
       " (['a', 'b', 'g', 'f', 'h', 'd', 'e', 'c'], 34),\n",
       " (['a', 'b', 'g', 'f', 'h', 'e', 'c', 'd'], 30),\n",
       " (['a', 'b', 'g', 'f', 'h', 'e', 'd', 'c'], 30),\n",
       " (['a', 'b', 'g', 'h', 'c', 'd', 'e', 'f'], 38),\n",
       " (['a', 'b', 'g', 'h', 'c', 'd', 'f', 'e'], 39),\n",
       " (['a', 'b', 'g', 'h', 'c', 'e', 'd', 'f'], 36),\n",
       " (['a', 'b', 'g', 'h', 'c', 'e', 'f', 'd'], 40),\n",
       " (['a', 'b', 'g', 'h', 'c', 'f', 'd', 'e'], 43),\n",
       " (['a', 'b', 'g', 'h', 'c', 'f', 'e', 'd'], 46),\n",
       " (['a', 'b', 'g', 'h', 'd', 'c', 'e', 'f'], 38),\n",
       " (['a', 'b', 'g', 'h', 'd', 'c', 'f', 'e'], 45),\n",
       " (['a', 'b', 'g', 'h', 'd', 'e', 'c', 'f'], 42),\n",
       " (['a', 'b', 'g', 'h', 'd', 'e', 'f', 'c'], 46),\n",
       " (['a', 'b', 'g', 'h', 'd', 'f', 'c', 'e'], 43),\n",
       " (['a', 'b', 'g', 'h', 'd', 'f', 'e', 'c'], 40),\n",
       " (['a', 'b', 'g', 'h', 'e', 'c', 'd', 'f'], 32),\n",
       " (['a', 'b', 'g', 'h', 'e', 'c', 'f', 'd'], 40),\n",
       " (['a', 'b', 'g', 'h', 'e', 'd', 'c', 'f'], 38),\n",
       " (['a', 'b', 'g', 'h', 'e', 'd', 'f', 'c'], 40),\n",
       " (['a', 'b', 'g', 'h', 'e', 'f', 'c', 'd'], 42),\n",
       " (['a', 'b', 'g', 'h', 'e', 'f', 'd', 'c'], 36),\n",
       " (['a', 'b', 'g', 'h', 'f', 'c', 'd', 'e'], 35),\n",
       " (['a', 'b', 'g', 'h', 'f', 'c', 'e', 'd'], 36),\n",
       " (['a', 'b', 'g', 'h', 'f', 'd', 'c', 'e'], 29),\n",
       " (['a', 'b', 'g', 'h', 'f', 'd', 'e', 'c'], 30),\n",
       " (['a', 'b', 'g', 'h', 'f', 'e', 'c', 'd'], 32),\n",
       " (['a', 'b', 'g', 'h', 'f', 'e', 'd', 'c'], 32),\n",
       " (['a', 'b', 'h', 'c', 'd', 'e', 'f', 'g'], 37),\n",
       " (['a', 'b', 'h', 'c', 'd', 'e', 'g', 'f'], 38),\n",
       " (['a', 'b', 'h', 'c', 'd', 'f', 'e', 'g'], 41),\n",
       " (['a', 'b', 'h', 'c', 'd', 'f', 'g', 'e'], 39),\n",
       " (['a', 'b', 'h', 'c', 'd', 'g', 'e', 'f'], 44),\n",
       " (['a', 'b', 'h', 'c', 'd', 'g', 'f', 'e'], 41),\n",
       " (['a', 'b', 'h', 'c', 'e', 'd', 'f', 'g'], 35),\n",
       " (['a', 'b', 'h', 'c', 'e', 'd', 'g', 'f'], 38),\n",
       " (['a', 'b', 'h', 'c', 'e', 'f', 'd', 'g'], 41),\n",
       " (['a', 'b', 'h', 'c', 'e', 'f', 'g', 'd'], 42),\n",
       " (['a', 'b', 'h', 'c', 'e', 'g', 'd', 'f'], 42),\n",
       " (['a', 'b', 'h', 'c', 'e', 'g', 'f', 'd'], 40),\n",
       " (['a', 'b', 'h', 'c', 'f', 'd', 'e', 'g'], 45),\n",
       " (['a', 'b', 'h', 'c', 'f', 'd', 'g', 'e'], 49),\n",
       " (['a', 'b', 'h', 'c', 'f', 'e', 'd', 'g'], 47),\n",
       " (['a', 'b', 'h', 'c', 'f', 'e', 'g', 'd'], 52),\n",
       " (['a', 'b', 'h', 'c', 'f', 'g', 'd', 'e'], 45),\n",
       " (['a', 'b', 'h', 'c', 'f', 'g', 'e', 'd'], 46),\n",
       " (['a', 'b', 'h', 'c', 'g', 'd', 'e', 'f'], 39),\n",
       " (['a', 'b', 'h', 'c', 'g', 'd', 'f', 'e'], 40),\n",
       " (['a', 'b', 'h', 'c', 'g', 'e', 'd', 'f'], 37),\n",
       " (['a', 'b', 'h', 'c', 'g', 'e', 'f', 'd'], 41),\n",
       " (['a', 'b', 'h', 'c', 'g', 'f', 'd', 'e'], 34),\n",
       " (['a', 'b', 'h', 'c', 'g', 'f', 'e', 'd'], 37),\n",
       " (['a', 'b', 'h', 'd', 'c', 'e', 'f', 'g'], 37),\n",
       " (['a', 'b', 'h', 'd', 'c', 'e', 'g', 'f'], 38),\n",
       " (['a', 'b', 'h', 'd', 'c', 'f', 'e', 'g'], 47),\n",
       " (['a', 'b', 'h', 'd', 'c', 'f', 'g', 'e'], 45),\n",
       " (['a', 'b', 'h', 'd', 'c', 'g', 'e', 'f'], 39),\n",
       " (['a', 'b', 'h', 'd', 'c', 'g', 'f', 'e'], 36),\n",
       " (['a', 'b', 'h', 'd', 'e', 'c', 'f', 'g'], 41),\n",
       " (['a', 'b', 'h', 'd', 'e', 'c', 'g', 'f'], 33),\n",
       " (['a', 'b', 'h', 'd', 'e', 'f', 'c', 'g'], 42),\n",
       " (['a', 'b', 'h', 'd', 'e', 'f', 'g', 'c'], 37),\n",
       " (['a', 'b', 'h', 'd', 'e', 'g', 'c', 'f'], 43),\n",
       " (['a', 'b', 'h', 'd', 'e', 'g', 'f', 'c'], 46),\n",
       " (['a', 'b', 'h', 'd', 'f', 'c', 'e', 'g'], 45),\n",
       " (['a', 'b', 'h', 'd', 'f', 'c', 'g', 'e'], 44),\n",
       " (['a', 'b', 'h', 'd', 'f', 'e', 'c', 'g'], 36),\n",
       " (['a', 'b', 'h', 'd', 'f', 'e', 'g', 'c'], 41),\n",
       " (['a', 'b', 'h', 'd', 'f', 'g', 'c', 'e'], 34),\n",
       " (['a', 'b', 'h', 'd', 'f', 'g', 'e', 'c'], 40),\n",
       " (['a', 'b', 'h', 'd', 'g', 'c', 'e', 'f'], 39),\n",
       " (['a', 'b', 'h', 'd', 'g', 'c', 'f', 'e'], 46),\n",
       " (['a', 'b', 'h', 'd', 'g', 'e', 'c', 'f'], 48),\n",
       " (['a', 'b', 'h', 'd', 'g', 'e', 'f', 'c'], 52),\n",
       " (['a', 'b', 'h', 'd', 'g', 'f', 'c', 'e'], 45),\n",
       " (['a', 'b', 'h', 'd', 'g', 'f', 'e', 'c'], 42),\n",
       " (['a', 'b', 'h', 'e', 'c', 'd', 'f', 'g'], 31),\n",
       " (['a', 'b', 'h', 'e', 'c', 'd', 'g', 'f'], 34),\n",
       " (['a', 'b', 'h', 'e', 'c', 'f', 'd', 'g'], 41),\n",
       " (['a', 'b', 'h', 'e', 'c', 'f', 'g', 'd'], 42),\n",
       " (['a', 'b', 'h', 'e', 'c', 'g', 'd', 'f'], 33),\n",
       " (['a', 'b', 'h', 'e', 'c', 'g', 'f', 'd'], 31),\n",
       " (['a', 'b', 'h', 'e', 'd', 'c', 'f', 'g'], 37),\n",
       " (['a', 'b', 'h', 'e', 'd', 'c', 'g', 'f'], 29),\n",
       " (['a', 'b', 'h', 'e', 'd', 'f', 'c', 'g'], 36),\n",
       " (['a', 'b', 'h', 'e', 'd', 'f', 'g', 'c'], 31),\n",
       " (['a', 'b', 'h', 'e', 'd', 'g', 'c', 'f'], 39),\n",
       " (['a', 'b', 'h', 'e', 'd', 'g', 'f', 'c'], 42),\n",
       " (['a', 'b', 'h', 'e', 'f', 'c', 'd', 'g'], 43),\n",
       " (['a', 'b', 'h', 'e', 'f', 'c', 'g', 'd'], 43),\n",
       " (['a', 'b', 'h', 'e', 'f', 'd', 'c', 'g'], 32),\n",
       " (['a', 'b', 'h', 'e', 'f', 'd', 'g', 'c'], 37),\n",
       " (['a', 'b', 'h', 'e', 'f', 'g', 'c', 'd'], 33),\n",
       " (['a', 'b', 'h', 'e', 'f', 'g', 'd', 'c'], 38),\n",
       " (['a', 'b', 'h', 'e', 'g', 'c', 'd', 'f'], 33),\n",
       " (['a', 'b', 'h', 'e', 'g', 'c', 'f', 'd'], 41),\n",
       " (['a', 'b', 'h', 'e', 'g', 'd', 'c', 'f'], 44),\n",
       " (['a', 'b', 'h', 'e', 'g', 'd', 'f', 'c'], 46),\n",
       " (['a', 'b', 'h', 'e', 'g', 'f', 'c', 'd'], 42),\n",
       " (['a', 'b', 'h', 'e', 'g', 'f', 'd', 'c'], 36),\n",
       " (['a', 'b', 'h', 'f', 'c', 'd', 'e', 'g'], 37),\n",
       " (['a', 'b', 'h', 'f', 'c', 'd', 'g', 'e'], 41),\n",
       " (['a', 'b', 'h', 'f', 'c', 'e', 'd', 'g'], 37),\n",
       " (['a', 'b', 'h', 'f', 'c', 'e', 'g', 'd'], 42),\n",
       " (['a', 'b', 'h', 'f', 'c', 'g', 'd', 'e'], 36),\n",
       " (['a', 'b', 'h', 'f', 'c', 'g', 'e', 'd'], 37),\n",
       " (['a', 'b', 'h', 'f', 'd', 'c', 'e', 'g'], 31),\n",
       " (['a', 'b', 'h', 'f', 'd', 'c', 'g', 'e'], 30),\n",
       " (['a', 'b', 'h', 'f', 'd', 'e', 'c', 'g'], 26),\n",
       " (['a', 'b', 'h', 'f', 'd', 'e', 'g', 'c'], 31),\n",
       " (['a', 'b', 'h', 'f', 'd', 'g', 'c', 'e'], 30),\n",
       " (['a', 'b', 'h', 'f', 'd', 'g', 'e', 'c'], 36),\n",
       " (['a', 'b', 'h', 'f', 'e', 'c', 'd', 'g'], 33),\n",
       " (['a', 'b', 'h', 'f', 'e', 'c', 'g', 'd'], 33),\n",
       " (['a', 'b', 'h', 'f', 'e', 'd', 'c', 'g'], 28),\n",
       " (['a', 'b', 'h', 'f', 'e', 'd', 'g', 'c'], 33),\n",
       " (['a', 'b', 'h', 'f', 'e', 'g', 'c', 'd'], 33),\n",
       " (['a', 'b', 'h', 'f', 'e', 'g', 'd', 'c'], 38),\n",
       " (['a', 'b', 'h', 'f', 'g', 'c', 'd', 'e'], 26),\n",
       " (['a', 'b', 'h', 'f', 'g', 'c', 'e', 'd'], 27),\n",
       " (['a', 'b', 'h', 'f', 'g', 'd', 'c', 'e'], 31),\n",
       " (['a', 'b', 'h', 'f', 'g', 'd', 'e', 'c'], 32),\n",
       " (['a', 'b', 'h', 'f', 'g', 'e', 'c', 'd'], 32),\n",
       " (['a', 'b', 'h', 'f', 'g', 'e', 'd', 'c'], 32),\n",
       " (['a', 'b', 'h', 'g', 'c', 'd', 'e', 'f'], 31),\n",
       " (['a', 'b', 'h', 'g', 'c', 'd', 'f', 'e'], 32),\n",
       " (['a', 'b', 'h', 'g', 'c', 'e', 'd', 'f'], 29),\n",
       " (['a', 'b', 'h', 'g', 'c', 'e', 'f', 'd'], 33),\n",
       " (['a', 'b', 'h', 'g', 'c', 'f', 'd', 'e'], 36),\n",
       " (['a', 'b', 'h', 'g', 'c', 'f', 'e', 'd'], 39),\n",
       " (['a', 'b', 'h', 'g', 'd', 'c', 'e', 'f'], 36),\n",
       " (['a', 'b', 'h', 'g', 'd', 'c', 'f', 'e'], 43),\n",
       " (['a', 'b', 'h', 'g', 'd', 'e', 'c', 'f'], 40),\n",
       " (['a', 'b', 'h', 'g', 'd', 'e', 'f', 'c'], 44),\n",
       " (['a', 'b', 'h', 'g', 'd', 'f', 'c', 'e'], 41),\n",
       " (['a', 'b', 'h', 'g', 'd', 'f', 'e', 'c'], 38),\n",
       " (['a', 'b', 'h', 'g', 'e', 'c', 'd', 'f'], 34),\n",
       " (['a', 'b', 'h', 'g', 'e', 'c', 'f', 'd'], 42),\n",
       " (['a', 'b', 'h', 'g', 'e', 'd', 'c', 'f'], 40),\n",
       " (['a', 'b', 'h', 'g', 'e', 'd', 'f', 'c'], 42),\n",
       " (['a', 'b', 'h', 'g', 'e', 'f', 'c', 'd'], 44),\n",
       " (['a', 'b', 'h', 'g', 'e', 'f', 'd', 'c'], 38),\n",
       " (['a', 'b', 'h', 'g', 'f', 'c', 'd', 'e'], 37),\n",
       " (['a', 'b', 'h', 'g', 'f', 'c', 'e', 'd'], 38),\n",
       " (['a', 'b', 'h', 'g', 'f', 'd', 'c', 'e'], 31),\n",
       " (['a', 'b', 'h', 'g', 'f', 'd', 'e', 'c'], 32),\n",
       " (['a', 'b', 'h', 'g', 'f', 'e', 'c', 'd'], 34),\n",
       " (['a', 'b', 'h', 'g', 'f', 'e', 'd', 'c'], 34),\n",
       " (['a', 'c', 'b', 'd', 'e', 'f', 'g', 'h'], 44),\n",
       " (['a', 'c', 'b', 'd', 'e', 'f', 'h', 'g'], 43),\n",
       " (['a', 'c', 'b', 'd', 'e', 'g', 'f', 'h'], 42),\n",
       " (['a', 'c', 'b', 'd', 'e', 'g', 'h', 'f'], 44),\n",
       " (['a', 'c', 'b', 'd', 'e', 'h', 'f', 'g'], 41),\n",
       " (['a', 'c', 'b', 'd', 'e', 'h', 'g', 'f'], 44),\n",
       " (['a', 'c', 'b', 'd', 'f', 'e', 'g', 'h'], 48),\n",
       " (['a', 'c', 'b', 'd', 'f', 'e', 'h', 'g'], 47),\n",
       " (['a', 'c', 'b', 'd', 'f', 'g', 'e', 'h'], 46),\n",
       " (['a', 'c', 'b', 'd', 'f', 'g', 'h', 'e'], 45),\n",
       " (['a', 'c', 'b', 'd', 'f', 'h', 'e', 'g'], 45),\n",
       " (['a', 'c', 'b', 'd', 'f', 'h', 'g', 'e'], 45),\n",
       " (['a', 'c', 'b', 'd', 'g', 'e', 'f', 'h'], 48),\n",
       " (['a', 'c', 'b', 'd', 'g', 'e', 'h', 'f'], 48),\n",
       " (['a', 'c', 'b', 'd', 'g', 'f', 'e', 'h'], 48),\n",
       " (['a', 'c', 'b', 'd', 'g', 'f', 'h', 'e'], 45),\n",
       " (['a', 'c', 'b', 'd', 'g', 'h', 'e', 'f'], 50),\n",
       " (['a', 'c', 'b', 'd', 'g', 'h', 'f', 'e'], 47),\n",
       " (['a', 'c', 'b', 'd', 'h', 'e', 'f', 'g'], 51),\n",
       " (['a', 'c', 'b', 'd', 'h', 'e', 'g', 'f'], 52),\n",
       " (['a', 'c', 'b', 'd', 'h', 'f', 'e', 'g'], 51),\n",
       " (['a', 'c', 'b', 'd', 'h', 'f', 'g', 'e'], 49),\n",
       " (['a', 'c', 'b', 'd', 'h', 'g', 'e', 'f'], 54),\n",
       " (['a', 'c', 'b', 'd', 'h', 'g', 'f', 'e'], 51),\n",
       " (['a', 'c', 'b', 'e', 'd', 'f', 'g', 'h'], 36),\n",
       " (['a', 'c', 'b', 'e', 'd', 'f', 'h', 'g'], 35),\n",
       " (['a', 'c', 'b', 'e', 'd', 'g', 'f', 'h'], 36),\n",
       " (['a', 'c', 'b', 'e', 'd', 'g', 'h', 'f'], 38),\n",
       " (['a', 'c', 'b', 'e', 'd', 'h', 'f', 'g'], 39),\n",
       " (['a', 'c', 'b', 'e', 'd', 'h', 'g', 'f'], 42),\n",
       " (['a', 'c', 'b', 'e', 'f', 'd', 'g', 'h'], 42),\n",
       " (['a', 'c', 'b', 'e', 'f', 'd', 'h', 'g'], 45),\n",
       " (['a', 'c', 'b', 'e', 'f', 'g', 'd', 'h'], 46),\n",
       " (['a', 'c', 'b', 'e', 'f', 'g', 'h', 'd'], 46),\n",
       " (['a', 'c', 'b', 'e', 'f', 'h', 'd', 'g'], 45),\n",
       " (['a', 'c', 'b', 'e', 'f', 'h', 'g', 'd'], 42),\n",
       " (['a', 'c', 'b', 'e', 'g', 'd', 'f', 'h'], 40),\n",
       " (['a', 'c', 'b', 'e', 'g', 'd', 'h', 'f'], 46),\n",
       " (['a', 'c', 'b', 'e', 'g', 'f', 'd', 'h'], 44),\n",
       " (['a', 'c', 'b', 'e', 'g', 'f', 'h', 'd'], 44),\n",
       " (['a', 'c', 'b', 'e', 'g', 'h', 'd', 'f'], 46),\n",
       " (['a', 'c', 'b', 'e', 'g', 'h', 'f', 'd'], 40),\n",
       " (['a', 'c', 'b', 'e', 'h', 'd', 'f', 'g'], 43),\n",
       " (['a', 'c', 'b', 'e', 'h', 'd', 'g', 'f'], 46),\n",
       " (['a', 'c', 'b', 'e', 'h', 'f', 'd', 'g'], 39),\n",
       " (['a', 'c', 'b', 'e', 'h', 'f', 'g', 'd'], 40),\n",
       " (['a', 'c', 'b', 'e', 'h', 'g', 'd', 'f'], 42),\n",
       " (['a', 'c', 'b', 'e', 'h', 'g', 'f', 'd'], 40),\n",
       " (['a', 'c', 'b', 'f', 'd', 'e', 'g', 'h'], 41),\n",
       " (['a', 'c', 'b', 'f', 'd', 'e', 'h', 'g'], 40),\n",
       " (['a', 'c', 'b', 'f', 'd', 'g', 'e', 'h'], 45),\n",
       " (['a', 'c', 'b', 'f', 'd', 'g', 'h', 'e'], 44),\n",
       " (['a', 'c', 'b', 'f', 'd', 'h', 'e', 'g'], 48),\n",
       " (['a', 'c', 'b', 'f', 'd', 'h', 'g', 'e'], 48),\n",
       " (['a', 'c', 'b', 'f', 'e', 'd', 'g', 'h'], 43),\n",
       " (['a', 'c', 'b', 'f', 'e', 'd', 'h', 'g'], 46),\n",
       " (['a', 'c', 'b', 'f', 'e', 'g', 'd', 'h'], 51),\n",
       " (['a', 'c', 'b', 'f', 'e', 'g', 'h', 'd'], 51),\n",
       " (['a', 'c', 'b', 'f', 'e', 'h', 'd', 'g'], 50),\n",
       " (['a', 'c', 'b', 'f', 'e', 'h', 'g', 'd'], 47),\n",
       " (['a', 'c', 'b', 'f', 'g', 'd', 'e', 'h'], 41),\n",
       " (['a', 'c', 'b', 'f', 'g', 'd', 'h', 'e'], 48),\n",
       " (['a', 'c', 'b', 'f', 'g', 'e', 'd', 'h'], 45),\n",
       " (['a', 'c', 'b', 'f', 'g', 'e', 'h', 'd'], 49),\n",
       " (['a', 'c', 'b', 'f', 'g', 'h', 'd', 'e'], 44),\n",
       " (['a', 'c', 'b', 'f', 'g', 'h', 'e', 'd'], 41),\n",
       " (['a', 'c', 'b', 'f', 'h', 'd', 'e', 'g'], 44),\n",
       " (['a', 'c', 'b', 'f', 'h', 'd', 'g', 'e'], 48),\n",
       " (['a', 'c', 'b', 'f', 'h', 'e', 'd', 'g'], 40),\n",
       " (['a', 'c', 'b', 'f', 'h', 'e', 'g', 'd'], 45),\n",
       " (['a', 'c', 'b', 'f', 'h', 'g', 'd', 'e'], 40),\n",
       " (['a', 'c', 'b', 'f', 'h', 'g', 'e', 'd'], 41),\n",
       " (['a', 'c', 'b', 'g', 'd', 'e', 'f', 'h'], 38),\n",
       " (['a', 'c', 'b', 'g', 'd', 'e', 'h', 'f'], 38),\n",
       " (['a', 'c', 'b', 'g', 'd', 'f', 'e', 'h'], 42),\n",
       " (['a', 'c', 'b', 'g', 'd', 'f', 'h', 'e'], 39),\n",
       " (['a', 'c', 'b', 'g', 'd', 'h', 'e', 'f'], 48),\n",
       " (['a', 'c', 'b', 'g', 'd', 'h', 'f', 'e'], 45),\n",
       " (['a', 'c', 'b', 'g', 'e', 'd', 'f', 'h'], 36),\n",
       " (['a', 'c', 'b', 'g', 'e', 'd', 'h', 'f'], 42),\n",
       " (['a', 'c', 'b', 'g', 'e', 'f', 'd', 'h'], 46),\n",
       " (['a', 'c', 'b', 'g', 'e', 'f', 'h', 'd'], 46),\n",
       " (['a', 'c', 'b', 'g', 'e', 'h', 'd', 'f'], 46),\n",
       " (['a', 'c', 'b', 'g', 'e', 'h', 'f', 'd'], 40),\n",
       " (['a', 'c', 'b', 'g', 'f', 'd', 'e', 'h'], 36),\n",
       " (['a', 'c', 'b', 'g', 'f', 'd', 'h', 'e'], 43),\n",
       " (['a', 'c', 'b', 'g', 'f', 'e', 'd', 'h'], 42),\n",
       " (['a', 'c', 'b', 'g', 'f', 'e', 'h', 'd'], 46),\n",
       " (['a', 'c', 'b', 'g', 'f', 'h', 'd', 'e'], 39),\n",
       " (['a', 'c', 'b', 'g', 'f', 'h', 'e', 'd'], 36),\n",
       " (['a', 'c', 'b', 'g', 'h', 'd', 'e', 'f'], 44),\n",
       " (['a', 'c', 'b', 'g', 'h', 'd', 'f', 'e'], 45),\n",
       " (['a', 'c', 'b', 'g', 'h', 'e', 'd', 'f'], 38),\n",
       " (['a', 'c', 'b', 'g', 'h', 'e', 'f', 'd'], 42),\n",
       " (['a', 'c', 'b', 'g', 'h', 'f', 'd', 'e'], 35),\n",
       " (['a', 'c', 'b', 'g', 'h', 'f', 'e', 'd'], 38),\n",
       " (['a', 'c', 'b', 'h', 'd', 'e', 'f', 'g'], 43),\n",
       " (['a', 'c', 'b', 'h', 'd', 'e', 'g', 'f'], 44),\n",
       " (['a', 'c', 'b', 'h', 'd', 'f', 'e', 'g'], 47),\n",
       " (['a', 'c', 'b', 'h', 'd', 'f', 'g', 'e'], 45),\n",
       " (['a', 'c', 'b', 'h', 'd', 'g', 'e', 'f'], 50),\n",
       " (['a', 'c', 'b', 'h', 'd', 'g', 'f', 'e'], 47),\n",
       " (['a', 'c', 'b', 'h', 'e', 'd', 'f', 'g'], 37),\n",
       " (['a', 'c', 'b', 'h', 'e', 'd', 'g', 'f'], 40),\n",
       " (['a', 'c', 'b', 'h', 'e', 'f', 'd', 'g'], 43),\n",
       " (['a', 'c', 'b', 'h', 'e', 'f', 'g', 'd'], 44),\n",
       " (['a', 'c', 'b', 'h', 'e', 'g', 'd', 'f'], 44),\n",
       " (['a', 'c', 'b', 'h', 'e', 'g', 'f', 'd'], 42),\n",
       " (['a', 'c', 'b', 'h', 'f', 'd', 'e', 'g'], 37),\n",
       " (['a', 'c', 'b', 'h', 'f', 'd', 'g', 'e'], 41),\n",
       " (['a', 'c', 'b', 'h', 'f', 'e', 'd', 'g'], 39),\n",
       " (['a', 'c', 'b', 'h', 'f', 'e', 'g', 'd'], 44),\n",
       " (['a', 'c', 'b', 'h', 'f', 'g', 'd', 'e'], 37),\n",
       " (['a', 'c', 'b', 'h', 'f', 'g', 'e', 'd'], 38),\n",
       " (['a', 'c', 'b', 'h', 'g', 'd', 'e', 'f'], 42),\n",
       " (['a', 'c', 'b', 'h', 'g', 'd', 'f', 'e'], 43),\n",
       " (['a', 'c', 'b', 'h', 'g', 'e', 'd', 'f'], 40),\n",
       " (['a', 'c', 'b', 'h', 'g', 'e', 'f', 'd'], 44),\n",
       " (['a', 'c', 'b', 'h', 'g', 'f', 'd', 'e'], 37),\n",
       " (['a', 'c', 'b', 'h', 'g', 'f', 'e', 'd'], 40),\n",
       " (['a', 'c', 'd', 'b', 'e', 'f', 'g', 'h'], 40),\n",
       " (['a', 'c', 'd', 'b', 'e', 'f', 'h', 'g'], 39),\n",
       " (['a', 'c', 'd', 'b', 'e', 'g', 'f', 'h'], 38),\n",
       " (['a', 'c', 'd', 'b', 'e', 'g', 'h', 'f'], 40),\n",
       " (['a', 'c', 'd', 'b', 'e', 'h', 'f', 'g'], 37),\n",
       " (['a', 'c', 'd', 'b', 'e', 'h', 'g', 'f'], 40),\n",
       " (['a', 'c', 'd', 'b', 'f', 'e', 'g', 'h'], 45),\n",
       " (['a', 'c', 'd', 'b', 'f', 'e', 'h', 'g'], 44),\n",
       " (['a', 'c', 'd', 'b', 'f', 'g', 'e', 'h'], 43),\n",
       " (['a', 'c', 'd', 'b', 'f', 'g', 'h', 'e'], 42),\n",
       " (['a', 'c', 'd', 'b', 'f', 'h', 'e', 'g'], 42),\n",
       " (['a', 'c', 'd', 'b', 'f', 'h', 'g', 'e'], 42),\n",
       " (['a', 'c', 'd', 'b', 'g', 'e', 'f', 'h'], 40),\n",
       " (['a', 'c', 'd', 'b', 'g', 'e', 'h', 'f'], 40),\n",
       " (['a', 'c', 'd', 'b', 'g', 'f', 'e', 'h'], 40),\n",
       " (['a', 'c', 'd', 'b', 'g', 'f', 'h', 'e'], 37),\n",
       " (['a', 'c', 'd', 'b', 'g', 'h', 'e', 'f'], 42),\n",
       " (['a', 'c', 'd', 'b', 'g', 'h', 'f', 'e'], 39),\n",
       " (['a', 'c', 'd', 'b', 'h', 'e', 'f', 'g'], 41),\n",
       " (['a', 'c', 'd', 'b', 'h', 'e', 'g', 'f'], 42),\n",
       " (['a', 'c', 'd', 'b', 'h', 'f', 'e', 'g'], 41),\n",
       " (['a', 'c', 'd', 'b', 'h', 'f', 'g', 'e'], 39),\n",
       " (['a', 'c', 'd', 'b', 'h', 'g', 'e', 'f'], 44),\n",
       " (['a', 'c', 'd', 'b', 'h', 'g', 'f', 'e'], 41),\n",
       " (['a', 'c', 'd', 'e', 'b', 'f', 'g', 'h'], 33),\n",
       " (['a', 'c', 'd', 'e', 'b', 'f', 'h', 'g'], 32),\n",
       " (['a', 'c', 'd', 'e', 'b', 'g', 'f', 'h'], 28),\n",
       " (['a', 'c', 'd', 'e', 'b', 'g', 'h', 'f'], 30),\n",
       " (['a', 'c', 'd', 'e', 'b', 'h', 'f', 'g'], 29),\n",
       " (['a', 'c', 'd', 'e', 'b', 'h', 'g', 'f'], 32),\n",
       " (['a', 'c', 'd', 'e', 'f', 'b', 'g', 'h'], 35),\n",
       " (['a', 'c', 'd', 'e', 'f', 'b', 'h', 'g'], 36),\n",
       " (['a', 'c', 'd', 'e', 'f', 'g', 'b', 'h'], 32),\n",
       " (['a', 'c', 'd', 'e', 'f', 'g', 'h', 'b'], 35),\n",
       " (['a', 'c', 'd', 'e', 'f', 'h', 'b', 'g'], 31),\n",
       " (['a', 'c', 'd', 'e', 'f', 'h', 'g', 'b'], 33),\n",
       " (['a', 'c', 'd', 'e', 'g', 'b', 'f', 'h'], 33),\n",
       " (['a', 'c', 'd', 'e', 'g', 'b', 'h', 'f'], 32),\n",
       " (['a', 'c', 'd', 'e', 'g', 'f', 'b', 'h'], 35),\n",
       " (['a', 'c', 'd', 'e', 'g', 'f', 'h', 'b'], 33),\n",
       " (['a', 'c', 'd', 'e', 'g', 'h', 'b', 'f'], 37),\n",
       " (['a', 'c', 'd', 'e', 'g', 'h', 'f', 'b'], 36),\n",
       " (['a', 'c', 'd', 'e', 'h', 'b', 'f', 'g'], 34),\n",
       " (['a', 'c', 'd', 'e', 'h', 'b', 'g', 'f'], 32),\n",
       " (['a', 'c', 'd', 'e', 'h', 'f', 'b', 'g'], 32),\n",
       " (['a', 'c', 'd', 'e', 'h', 'f', 'g', 'b'], 31),\n",
       " (['a', 'c', 'd', 'e', 'h', 'g', 'b', 'f'], 35),\n",
       " (['a', 'c', 'd', 'e', 'h', 'g', 'f', 'b'], 36),\n",
       " (['a', 'c', 'd', 'f', 'b', 'e', 'g', 'h'], 37),\n",
       " (['a', 'c', 'd', 'f', 'b', 'e', 'h', 'g'], 36),\n",
       " (['a', 'c', 'd', 'f', 'b', 'g', 'e', 'h'], 37),\n",
       " (['a', 'c', 'd', 'f', 'b', 'g', 'h', 'e'], 36),\n",
       " (['a', 'c', 'd', 'f', 'b', 'h', 'e', 'g'], 38),\n",
       " (['a', 'c', 'd', 'f', 'b', 'h', 'g', 'e'], 38),\n",
       " (['a', 'c', 'd', 'f', 'e', 'b', 'g', 'h'], 34),\n",
       " (['a', 'c', 'd', 'f', 'e', 'b', 'h', 'g'], 35),\n",
       " (['a', 'c', 'd', 'f', 'e', 'g', 'b', 'h'], 36),\n",
       " (['a', 'c', 'd', 'f', 'e', 'g', 'h', 'b'], 39),\n",
       " (['a', 'c', 'd', 'f', 'e', 'h', 'b', 'g'], 35),\n",
       " (['a', 'c', 'd', 'f', 'e', 'h', 'g', 'b'], 37),\n",
       " (['a', 'c', 'd', 'f', 'g', 'b', 'e', 'h'], 32),\n",
       " (['a', 'c', 'd', 'f', 'g', 'b', 'h', 'e'], 33),\n",
       " (['a', 'c', 'd', 'f', 'g', 'e', 'b', 'h'], 34),\n",
       " (['a', 'c', 'd', 'f', 'g', 'e', 'h', 'b'], 37),\n",
       " (['a', 'c', 'd', 'f', 'g', 'h', 'b', 'e'], 33),\n",
       " (['a', 'c', 'd', 'f', 'g', 'h', 'e', 'b'], 35),\n",
       " (['a', 'c', 'd', 'f', 'h', 'b', 'e', 'g'], 33),\n",
       " (['a', 'c', 'd', 'f', 'h', 'b', 'g', 'e'], 33),\n",
       " (['a', 'c', 'd', 'f', 'h', 'e', 'b', 'g'], 31),\n",
       " (['a', 'c', 'd', 'f', 'h', 'e', 'g', 'b'], 35),\n",
       " (['a', 'c', 'd', 'f', 'h', 'g', 'b', 'e'], 31),\n",
       " (['a', 'c', 'd', 'f', 'h', 'g', 'e', 'b'], 35),\n",
       " (['a', 'c', 'd', 'g', 'b', 'e', 'f', 'h'], 34),\n",
       " (['a', 'c', 'd', 'g', 'b', 'e', 'h', 'f'], 34),\n",
       " (['a', 'c', 'd', 'g', 'b', 'f', 'e', 'h'], 39),\n",
       " (['a', 'c', 'd', 'g', 'b', 'f', 'h', 'e'], 36),\n",
       " (['a', 'c', 'd', 'g', 'b', 'h', 'e', 'f'], 38),\n",
       " (['a', 'c', 'd', 'g', 'b', 'h', 'f', 'e'], 35),\n",
       " (['a', 'c', 'd', 'g', 'e', 'b', 'f', 'h'], 37),\n",
       " (['a', 'c', 'd', 'g', 'e', 'b', 'h', 'f'], 36),\n",
       " (['a', 'c', 'd', 'g', 'e', 'f', 'b', 'h'], 41),\n",
       " (['a', 'c', 'd', 'g', 'e', 'f', 'h', 'b'], 39),\n",
       " (['a', 'c', 'd', 'g', 'e', 'h', 'b', 'f'], 41),\n",
       " (['a', 'c', 'd', 'g', 'e', 'h', 'f', 'b'], 40),\n",
       " (['a', 'c', 'd', 'g', 'f', 'b', 'e', 'h'], 37),\n",
       " (['a', 'c', 'd', 'g', 'f', 'b', 'h', 'e'], 38),\n",
       " (['a', 'c', 'd', 'g', 'f', 'e', 'b', 'h'], 36),\n",
       " (['a', 'c', 'd', 'g', 'f', 'e', 'h', 'b'], 39),\n",
       " (['a', 'c', 'd', 'g', 'f', 'h', 'b', 'e'], 33),\n",
       " (['a', 'c', 'd', 'g', 'f', 'h', 'e', 'b'], 35),\n",
       " (['a', 'c', 'd', 'g', 'h', 'b', 'e', 'f'], 38),\n",
       " (['a', 'c', 'd', 'g', 'h', 'b', 'f', 'e'], 40),\n",
       " (['a', 'c', 'd', 'g', 'h', 'e', 'b', 'f'], 39),\n",
       " (['a', 'c', 'd', 'g', 'h', 'e', 'f', 'b'], 42),\n",
       " (['a', 'c', 'd', 'g', 'h', 'f', 'b', 'e'], 36),\n",
       " (['a', 'c', 'd', 'g', 'h', 'f', 'e', 'b'], 37),\n",
       " (['a', 'c', 'd', 'h', 'b', 'e', 'f', 'g'], 39),\n",
       " (['a', 'c', 'd', 'h', 'b', 'e', 'g', 'f'], 40),\n",
       " (['a', 'c', 'd', 'h', 'b', 'f', 'e', 'g'], 44),\n",
       " (['a', 'c', 'd', 'h', 'b', 'f', 'g', 'e'], 42),\n",
       " (['a', 'c', 'd', 'h', 'b', 'g', 'e', 'f'], 42),\n",
       " (['a', 'c', 'd', 'h', 'b', 'g', 'f', 'e'], 39),\n",
       " (['a', 'c', 'd', 'h', 'e', 'b', 'f', 'g'], 40),\n",
       " (['a', 'c', 'd', 'h', 'e', 'b', 'g', 'f'], 38),\n",
       " (['a', 'c', 'd', 'h', 'e', 'f', 'b', 'g'], 42),\n",
       " (['a', 'c', 'd', 'h', 'e', 'f', 'g', 'b'], 41),\n",
       " (['a', 'c', 'd', 'h', 'e', 'g', 'b', 'f'], 43),\n",
       " (['a', 'c', 'd', 'h', 'e', 'g', 'f', 'b'], 44),\n",
       " (['a', 'c', 'd', 'h', 'f', 'b', 'e', 'g'], 40),\n",
       " (['a', 'c', 'd', 'h', 'f', 'b', 'g', 'e'], 40),\n",
       " (['a', 'c', 'd', 'h', 'f', 'e', 'b', 'g'], 37),\n",
       " (['a', 'c', 'd', 'h', 'f', 'e', 'g', 'b'], 41),\n",
       " (['a', 'c', 'd', 'h', 'f', 'g', 'b', 'e'], 35),\n",
       " (['a', 'c', 'd', 'h', 'f', 'g', 'e', 'b'], 39),\n",
       " (['a', 'c', 'd', 'h', 'g', 'b', 'e', 'f'], 40),\n",
       " (['a', 'c', 'd', 'h', 'g', 'b', 'f', 'e'], 42),\n",
       " (['a', 'c', 'd', 'h', 'g', 'e', 'b', 'f'], 43),\n",
       " (['a', 'c', 'd', 'h', 'g', 'e', 'f', 'b'], 46),\n",
       " (['a', 'c', 'd', 'h', 'g', 'f', 'b', 'e'], 40),\n",
       " (['a', 'c', 'd', 'h', 'g', 'f', 'e', 'b'], 41),\n",
       " (['a', 'c', 'e', 'b', 'd', 'f', 'g', 'h'], 38),\n",
       " (['a', 'c', 'e', 'b', 'd', 'f', 'h', 'g'], 37),\n",
       " (['a', 'c', 'e', 'b', 'd', 'g', 'f', 'h'], 38),\n",
       " (['a', 'c', 'e', 'b', 'd', 'g', 'h', 'f'], 40),\n",
       " (['a', 'c', 'e', 'b', 'd', 'h', 'f', 'g'], 41),\n",
       " (['a', 'c', 'e', 'b', 'd', 'h', 'g', 'f'], 44),\n",
       " (['a', 'c', 'e', 'b', 'f', 'd', 'g', 'h'], 37),\n",
       " (['a', 'c', 'e', 'b', 'f', 'd', 'h', 'g'], 40),\n",
       " (['a', 'c', 'e', 'b', 'f', 'g', 'd', 'h'], 41),\n",
       " (['a', 'c', 'e', 'b', 'f', 'g', 'h', 'd'], 41),\n",
       " (['a', 'c', 'e', 'b', 'f', 'h', 'd', 'g'], 40),\n",
       " (['a', 'c', 'e', 'b', 'f', 'h', 'g', 'd'], 37),\n",
       " (['a', 'c', 'e', 'b', 'g', 'd', 'f', 'h'], 32),\n",
       " (['a', 'c', 'e', 'b', 'g', 'd', 'h', 'f'], 38),\n",
       " (['a', 'c', 'e', 'b', 'g', 'f', 'd', 'h'], 36),\n",
       " (['a', 'c', 'e', 'b', 'g', 'f', 'h', 'd'], 36),\n",
       " (['a', 'c', 'e', 'b', 'g', 'h', 'd', 'f'], 38),\n",
       " (['a', 'c', 'e', 'b', 'g', 'h', 'f', 'd'], 32),\n",
       " (['a', 'c', 'e', 'b', 'h', 'd', 'f', 'g'], 37),\n",
       " (['a', 'c', 'e', 'b', 'h', 'd', 'g', 'f'], 40),\n",
       " (['a', 'c', 'e', 'b', 'h', 'f', 'd', 'g'], 33),\n",
       " (['a', 'c', 'e', 'b', 'h', 'f', 'g', 'd'], 34),\n",
       " (['a', 'c', 'e', 'b', 'h', 'g', 'd', 'f'], 36),\n",
       " (['a', 'c', 'e', 'b', 'h', 'g', 'f', 'd'], 34),\n",
       " (['a', 'c', 'e', 'd', 'b', 'f', 'g', 'h'], 39),\n",
       " (['a', 'c', 'e', 'd', 'b', 'f', 'h', 'g'], 38),\n",
       " (['a', 'c', 'e', 'd', 'b', 'g', 'f', 'h'], 34),\n",
       " (['a', 'c', 'e', 'd', 'b', 'g', 'h', 'f'], 36),\n",
       " (['a', 'c', 'e', 'd', 'b', 'h', 'f', 'g'], 35),\n",
       " (['a', 'c', 'e', 'd', 'b', 'h', 'g', 'f'], 38),\n",
       " (['a', 'c', 'e', 'd', 'f', 'b', 'g', 'h'], 33),\n",
       " (['a', 'c', 'e', 'd', 'f', 'b', 'h', 'g'], 34),\n",
       " (['a', 'c', 'e', 'd', 'f', 'g', 'b', 'h'], 30),\n",
       " (['a', 'c', 'e', 'd', 'f', 'g', 'h', 'b'], 33),\n",
       " (['a', 'c', 'e', 'd', 'f', 'h', 'b', 'g'], 29),\n",
       " (['a', 'c', 'e', 'd', 'f', 'h', 'g', 'b'], 31),\n",
       " (['a', 'c', 'e', 'd', 'g', 'b', 'f', 'h'], 33),\n",
       " (['a', 'c', 'e', 'd', 'g', 'b', 'h', 'f'], 32),\n",
       " (['a', 'c', 'e', 'd', 'g', 'f', 'b', 'h'], 35),\n",
       " (['a', 'c', 'e', 'd', 'g', 'f', 'h', 'b'], 33),\n",
       " ...]"
      ]
     },
     "execution_count": 96,
     "metadata": {},
     "output_type": "execute_result"
    }
   ],
   "source": [
    "Gc_path = Hamiltonian_path(Gc, 'a')\n",
    "Gc_path"
   ]
  },
  {
   "cell_type": "code",
   "execution_count": 21,
   "metadata": {
    "scrolled": true
   },
   "outputs": [
    {
     "name": "stdout",
     "output_type": "stream",
     "text": [
      "True\n"
     ]
    }
   ],
   "source": [
    "N_Gc_path = len(Gc_path)\n",
    "n = len(Gc.nodes())\n",
    "print(N_Gc_path == math.factorial(n-1)) "
   ]
  },
  {
   "cell_type": "markdown",
   "metadata": {},
   "source": [
    "As we showed before, we can find $n!$ Hamiltonian paths in a complete graph of size $n$. Here we know the starting node $n_1$ so we don't have the $n$ options for $n_1$ but only one, so we end up with $\\frac{n!}{n} = (n-1)!$ Hamiltonian paths."
   ]
  },
  {
   "cell_type": "code",
   "execution_count": 114,
   "metadata": {},
   "outputs": [],
   "source": [
    "def shortest_ham_path(G, s0) :\n",
    "    path_w = Hamiltonian_path(G, s0)\n",
    "    w_min = path_w[0][1]\n",
    "    path_min = []\n",
    "    \n",
    "    for tup in path_w :\n",
    "        if tup[1] < w_min :\n",
    "            w_min = tup[1]\n",
    "            path_min = [tup]\n",
    "        elif tup[1] == w_min :\n",
    "            path_min.append(tup)\n",
    "            \n",
    "    return path_min\n",
    "    "
   ]
  },
  {
   "cell_type": "code",
   "execution_count": 115,
   "metadata": {},
   "outputs": [],
   "source": [
    "Gc_min_path = shortest_ham_path(Gc, 'a')\n",
    "Gtest_min_path = shortest_ham_path(Gtest, 1)"
   ]
  },
  {
   "cell_type": "code",
   "execution_count": 116,
   "metadata": {},
   "outputs": [
    {
     "name": "stdout",
     "output_type": "stream",
     "text": [
      "Gc_min_path [(['a', 'h', 'f', 'd', 'c', 'g', 'b', 'e'], 21), (['a', 'h', 'f', 'd', 'e', 'c', 'g', 'b'], 21), (['a', 'h', 'f', 'g', 'c', 'd', 'e', 'b'], 21)]\n",
      "Gtest_min_path [([1, 6, 8, 5, 0, 4, 9, 7, 2, 3], 60)]\n"
     ]
    }
   ],
   "source": [
    "print('Gc_min_path', Gc_min_path)\n",
    "print('Gtest_min_path', Gtest_min_path)"
   ]
  },
  {
   "cell_type": "code",
   "execution_count": null,
   "metadata": {},
   "outputs": [],
   "source": []
  }
 ],
 "metadata": {
  "kernelspec": {
   "display_name": "Python 3",
   "language": "python",
   "name": "python3"
  },
  "language_info": {
   "codemirror_mode": {
    "name": "ipython",
    "version": 3
   },
   "file_extension": ".py",
   "mimetype": "text/x-python",
   "name": "python",
   "nbconvert_exporter": "python",
   "pygments_lexer": "ipython3",
   "version": "3.8.3"
  },
  "latex_envs": {
   "LaTeX_envs_menu_present": true,
   "autoclose": false,
   "autocomplete": true,
   "bibliofile": "biblio.bib",
   "cite_by": "apalike",
   "current_citInitial": 1,
   "eqLabelWithNumbers": true,
   "eqNumInitial": 1,
   "hotkeys": {
    "equation": "Ctrl-E",
    "itemize": "Ctrl-I"
   },
   "labels_anchors": false,
   "latex_user_defs": false,
   "report_style_numbering": false,
   "user_envs_cfg": false
  }
 },
 "nbformat": 4,
 "nbformat_minor": 4
}
