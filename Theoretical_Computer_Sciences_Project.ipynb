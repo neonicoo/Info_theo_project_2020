{
 "cells": [
  {
   "cell_type": "markdown",
   "metadata": {},
   "source": [
    "# Theoretical Computer Sciences Project"
   ]
  },
  {
   "cell_type": "markdown",
   "metadata": {},
   "source": [
    "#### Sergio Peignier and Théotime Grohens"
   ]
  },
  {
   "cell_type": "markdown",
   "metadata": {},
   "source": [
    "\\section{1 - Graph Therory}"
   ]
  },
  {
   "cell_type": "code",
   "execution_count": null,
   "metadata": {},
   "outputs": [],
   "source": [
    "import random\n",
    "import pandas as pd\n",
    "import numpy as np\n",
    "import networkx as nx\n",
    "import matplotlib.pyplot as plt\n",
    "import seaborn as sns"
   ]
  },
  {
   "cell_type": "markdown",
   "metadata": {},
   "source": [
    "\\subsection{1.1 Introduction}"
   ]
  },
  {
   "cell_type": "markdown",
   "metadata": {},
   "source": [
    "In this project we will apply graph algorithms to study the gene regulatory network (GRN)\n",
    "of \\textit{Saccharomyces cerevisiae}.\n",
    "This species of yeast, it is a small single-cell eukaryote, with a short generation time, and\n",
    "two possible forms: an haploid one and a diploid one. Moreover, this organism can be easily\n",
    "cultured, and it has an important economic impact since it is extensively used for instance,\n",
    "in winemaking, baking, and brewing. Due to these characteristics, Saccharomyces cerevisiae\n",
    "is studied as an important model organism."
   ]
  },
  {
   "cell_type": "markdown",
   "metadata": {},
   "source": [
    "In this work we will study the \\textbf{gene regulatory network} of \\textit{Saccharomyces cerevisiae }, using graph theory algorithms. The files that are provided for this project have been used in [MCK+12] , as gold-standards to assess gene regulatory network inference algorithms, and they are the result of biological experiments based on ChIP binding data [MWG + 06], and systematic transcription factor deletions [HKI07]. Hereafter we describe each dataset in details:"
   ]
  },
  {
   "cell_type": "markdown",
   "metadata": {},
   "source": [
    "\\begin{itemize}\n",
    "\\item GRN_edges_S_cerevisiae.txt : contains the edges of the \\textit{ S. cervisiae} regulatory network (from transcription factors to target genes). The intended meaning is that if there is an edge between transcription factor X and the target gene A, then X regulates the transcription of A ;\n",
    "\n",
    "\\item net4_transcription_factors.tsv : Is a file containing in a single column the identifiers of the transcription factors of \\textit{S. cervisiae} that were studied ;\n",
    "\n",
    "\\item net4_gene_ids.tsv : The two previous files, use specific identifiers to denote genes, and this file contains the gene name associated to each gene identifier ;\n",
    "\n",
    "\\item go_slim_mapping.tab.txt : Only columns 0 and 5 will be used in this work. Column 0 contains the gene name, and column 5 contains its Gene Ontology (GO) annotation (http://www.geneontology.org/). Notice that two different rows may give for the same gene different Gene Ontology annotations. \n",
    "\\end{itemize}"
   ]
  },
  {
   "cell_type": "markdown",
   "metadata": {},
   "source": [
    "\\subsection{1.2 Exercices}"
   ]
  },
  {
   "cell_type": "markdown",
   "metadata": {},
   "source": [
    "### \\textbf{Exercise 1 : } Exploration and characterization of the gene regulatory network"
   ]
  },
  {
   "cell_type": "markdown",
   "metadata": {},
   "source": [
    "#### 1) Load the dataset and create a NetworkX graph instance."
   ]
  },
  {
   "cell_type": "markdown",
   "metadata": {},
   "source": [
    "On importe les datasets avec pandas : "
   ]
  },
  {
   "cell_type": "code",
   "execution_count": null,
   "metadata": {},
   "outputs": [],
   "source": [
    "GRN_edges_SC = pd.read_csv(\"./datas/GRN_edges_S_cerevisiae.txt\", sep = ',',  header=0)\n",
    "net4_transcription_factors = pd.read_csv(\"./datas/net4_transcription_factors.tsv\", sep = '\\n',  header=0) \n",
    "net4_gene_ids = pd.read_csv(\"./datas/net4_gene_ids.tsv\", sep = '\\t', header=0) \n",
    "go_slim_mappingtab = pd.read_csv(\"./datas/go_slim_mapping.tab.txt\", sep = '\\t', header=None) "
   ]
  },
  {
   "cell_type": "markdown",
   "metadata": {},
   "source": [
    "On vérifie que tout a bien été importé "
   ]
  },
  {
   "cell_type": "code",
   "execution_count": null,
   "metadata": {},
   "outputs": [],
   "source": [
    "GRN_edges_SC = GRN_edges_SC.iloc[:,1:]"
   ]
  },
  {
   "cell_type": "code",
   "execution_count": null,
   "metadata": {},
   "outputs": [],
   "source": [
    "# on peut transformer le df en array (au cas où si besoin)\n",
    "GRN_edges_SC_np = GRN_edges_SC.to_numpy()"
   ]
  },
  {
   "cell_type": "code",
   "execution_count": null,
   "metadata": {},
   "outputs": [],
   "source": [
    "net4_gene_ids.head()"
   ]
  },
  {
   "cell_type": "code",
   "execution_count": null,
   "metadata": {},
   "outputs": [],
   "source": [
    "net4_transcription_factors.head()"
   ]
  },
  {
   "cell_type": "code",
   "execution_count": null,
   "metadata": {},
   "outputs": [],
   "source": [
    "go_slim_mappingtab.head()"
   ]
  },
  {
   "cell_type": "code",
   "execution_count": null,
   "metadata": {},
   "outputs": [],
   "source": [
    "GRN_edges_SC.head()"
   ]
  },
  {
   "cell_type": "markdown",
   "metadata": {},
   "source": [
    "Le dataset a bien été importé, on créé donc un graphe $G = <V,E>$ dont l'ensemble des noeuds noté $V$ contient les facteurs de transcription et les gènes cibles et l'ensemble des arettes noté $E$ représente les régulations des gènes par les facteurs de transcription."
   ]
  },
  {
   "cell_type": "code",
   "execution_count": null,
   "metadata": {},
   "outputs": [],
   "source": [
    "G = nx.from_pandas_edgelist(GRN_edges_SC, \"transcription_factor\", \"target_gene\")"
   ]
  },
  {
   "cell_type": "markdown",
   "metadata": {},
   "source": [
    "#### 2) Plot the gene regulatory network,  the plot should be readable,  understandable,  andinformative.  Which information did you decide to convey in your plot?  Why?\n",
    "\n",
    "On représente le graphe G tel quel."
   ]
  },
  {
   "cell_type": "code",
   "execution_count": null,
   "metadata": {},
   "outputs": [],
   "source": [
    "#Premiere impression pour le graphe \n",
    "plt.figure(figsize=(15,8))\n",
    "nx.draw(G, node_size = 12)"
   ]
  },
  {
   "cell_type": "code",
   "execution_count": null,
   "metadata": {},
   "outputs": [],
   "source": [
    "#On transforme G en graphe dirigé (pas super utile et prend bcp de temps à charger)\n",
    "#G = nx.DiGraph(G)"
   ]
  },
  {
   "cell_type": "code",
   "execution_count": null,
   "metadata": {},
   "outputs": [],
   "source": [
    "#On rend le graphe plus lisible \n",
    "plt.figure(figsize=(18,10))\n",
    "pos = nx.spring_layout(G, k = 0.6,) #return the relative positions of the nodes,k = optimal distance between nodes\n",
    "nx.draw(G, node_size = 18, \n",
    "        pos = pos, \n",
    "        width = 0.4, \n",
    "        node_color = 'cyan',\n",
    "        edge_color = 'DarkSlateGray')"
   ]
  },
  {
   "cell_type": "markdown",
   "metadata": {},
   "source": [
    "Le graphe n'est pas lisible tel quel et ne donne aucune information sur la nature des données.\\\\\n",
    "\n",
    "L'ensemble $V$ peut être séparé en deux sous-ensembles :\n",
    "\\begin{itemize}\n",
    "    \\item $X$ : ensemble des facteurs de transcription ;\n",
    "    \\item $A$ : ensemble des gènes.\n",
    "\\end{itemize}\n",
    "Il serait donc plus isdjocospjdkpl de représenter les deux sous-ensembles $X$ et $A$ de façon distincte. "
   ]
  },
  {
   "cell_type": "markdown",
   "metadata": {},
   "source": [
    "##### Graphe bipartite :"
   ]
  },
  {
   "cell_type": "code",
   "execution_count": null,
   "metadata": {},
   "outputs": [],
   "source": [
    "from networkx.algorithms import bipartite"
   ]
  },
  {
   "cell_type": "code",
   "execution_count": null,
   "metadata": {},
   "outputs": [],
   "source": [
    "g = nx.Graph()"
   ]
  },
  {
   "cell_type": "code",
   "execution_count": null,
   "metadata": {},
   "outputs": [],
   "source": [
    "g.add_nodes_from(GRN_edges_SC['transcription_factor'], bipartite = 'transcription_factor')"
   ]
  },
  {
   "cell_type": "code",
   "execution_count": null,
   "metadata": {},
   "outputs": [],
   "source": [
    "g.add_nodes_from(GRN_edges_SC['target_gene'], bipartite = 'target_gene')"
   ]
  },
  {
   "cell_type": "code",
   "execution_count": null,
   "metadata": {},
   "outputs": [],
   "source": [
    "g.add_edges_from(zip(GRN_edges_SC['transcription_factor'], GRN_edges_SC['target_gene']))"
   ]
  },
  {
   "cell_type": "code",
   "execution_count": null,
   "metadata": {},
   "outputs": [],
   "source": [
    "#tf = transcription_factor\n",
    "tf_nodes = [ n for n in g.nodes() if g.nodes[n]\n",
    "            ['bipartite'] == 'transcription_factor']"
   ]
  },
  {
   "cell_type": "code",
   "execution_count": null,
   "metadata": {},
   "outputs": [],
   "source": [
    "# gn = gene = target_gene\n",
    "gn_nodes = [ n for n in g.nodes() if g.nodes[n]\n",
    "           ['bipartite'] == 'target_gene']"
   ]
  },
  {
   "cell_type": "code",
   "execution_count": null,
   "metadata": {},
   "outputs": [],
   "source": [
    "pos_ = nx.bipartite_layout(g, tf_nodes, scale = 1)"
   ]
  },
  {
   "cell_type": "markdown",
   "metadata": {},
   "source": [
    "Sur le graphe si-dessous, on réprésente la bipartie du graphe avec :\n",
    "    \\begin{itemize}\n",
    "        \\item À gauche les noeuds représentant les facteurs de transcription;\n",
    "        \\item À droite les noeuds représentant les gène cible pour une régulation.\n",
    "    \\end{itemize}\n",
    "Globalement (sur une vue d'ensemble) on remarque tout de suite que certain facteurs agissent sur un plus grand nombre de gène cibles que d'autres."
   ]
  },
  {
   "cell_type": "code",
   "execution_count": null,
   "metadata": {},
   "outputs": [],
   "source": [
    "plt.figure(figsize=(30,20))\n",
    "nx.draw(g, pos = pos_, node_size = 14,\n",
    "       node_color = 'forestgreen',\n",
    "       edge_color = 'darkblue',\n",
    "       width = 0.1)"
   ]
  },
  {
   "cell_type": "markdown",
   "metadata": {},
   "source": [
    "#### 3) Describe the network by computing pertinent local and global metrics,  explain your choices, represent the results graphically if necessary, and interpret the results."
   ]
  },
  {
   "cell_type": "markdown",
   "metadata": {},
   "source": [
    "Clustering coeff : en fait ça sert à R je crois vu kon a un bipartire"
   ]
  },
  {
   "cell_type": "code",
   "execution_count": null,
   "metadata": {},
   "outputs": [],
   "source": [
    "tf_clust = nx.clustering(G, tf_nodes)\n",
    "gn_clust = nx.clustering(G, gn_nodes)\n",
    "clustering = [[k for k in tf_clust.values()], [k for k in gn_clust.values()]]"
   ]
  },
  {
   "cell_type": "code",
   "execution_count": null,
   "metadata": {},
   "outputs": [],
   "source": [
    "sns.set_style(\"whitegrid\")\n",
    "\n",
    "plt.figure(figsize=(18,10))\n",
    "plt.xticks(fontsize=15)\n",
    "plt.yticks(fontsize=15)\n",
    "plt.xlabel(\"Clustering Coefficient\",fontsize=20)\n",
    "plt.ylabel(\"Nodes\",fontsize=20)\n",
    "plt.title(\"Histogram of clustering coefficients\", fontsize=20)\n",
    "\n",
    "x1 = clustering[1]\n",
    "x2 = clustering[0]\n",
    "plt.hist([x1, x2], color = ['coral', 'mediumorchid'], \n",
    "         edgecolor = 'black', label = [\"gene's nodes\", \"TGF's nodes\"])\n",
    "\n",
    "plt.legend()\n",
    "plt.show()"
   ]
  },
  {
   "cell_type": "code",
   "execution_count": null,
   "metadata": {},
   "outputs": [],
   "source": [
    "sns.set_style(\"whitegrid\")\n",
    "\n",
    "plt.figure(figsize=(18,10))\n",
    "plt.xticks(fontsize=15)\n",
    "plt.yticks(fontsize=15)\n",
    "plt.xlabel(\"Clustering Coefficient\",fontsize=20)\n",
    "plt.ylabel(\"Nodes\",fontsize=20)\n",
    "plt.title(\"Histogram of clustering coefficients\", fontsize=20)\n",
    "\n",
    "x1 = clustering[1]\n",
    "plt.hist(x1, color = ['coral'], \n",
    "         edgecolor = 'black', label = [\"gene's nodes\"])\n",
    "\n",
    "plt.legend()\n",
    "plt.show() "
   ]
  },
  {
   "cell_type": "code",
   "execution_count": null,
   "metadata": {},
   "outputs": [],
   "source": [
    " sns.set_style(\"whitegrid\")\n",
    "\n",
    "plt.figure(figsize=(18,10))\n",
    "plt.xticks(fontsize=15)\n",
    "plt.yticks(fontsize=15)\n",
    "plt.xlabel(\"Clustering Coefficient\",fontsize=20)\n",
    "plt.ylabel(\"Nodes\",fontsize=20)\n",
    "plt.title(\"Histogram of clustering coefficients\", fontsize=20)\n",
    "\n",
    "x2 = clustering[0]\n",
    "plt.hist(x2, color = ['blue'], \n",
    "         edgecolor = 'black', label = [\"TGF's nodes\"])\n",
    "\n",
    "plt.legend()\n",
    "plt.show()"
   ]
  },
  {
   "cell_type": "code",
   "execution_count": null,
   "metadata": {},
   "outputs": [],
   "source": [
    "plt.hist(clustering[1], alpha=0.6)\n",
    "plt.hist(clustering[0], alpha=0.6)\n",
    "plt.show()"
   ]
  },
  {
   "cell_type": "code",
   "execution_count": null,
   "metadata": {},
   "outputs": [],
   "source": [
    "print(np.mean(clustering[0]))\n",
    "print(np.mean(clustering[1]))"
   ]
  },
  {
   "cell_type": "code",
   "execution_count": null,
   "metadata": {},
   "outputs": [],
   "source": [
    "nx.average_clustering(G)"
   ]
  },
  {
   "cell_type": "code",
   "execution_count": null,
   "metadata": {},
   "outputs": [],
   "source": [
    "def overlap (G):\n",
    "    out = []\n",
    "    for couple in nx.utils.pairwise(G.nodes()):\n",
    "        n = 0\n",
    "        for nei in G[couple[0]]:\n",
    "            if nei in G[couple[1]]:\n",
    "                n+=1\n",
    "        if n == 0:\n",
    "            O = 0\n",
    "        elif  G.degree(couple[0]) <= 1 or G.degree(couple[1]) <= 1:\n",
    "            O = 0\n",
    "        elif (G.degree(couple[0])-1+G.degree(couple[1])-1-n) == 0:\n",
    "            print(G.degree(couple[0]),G.degree(couple[1]),n)\n",
    "            O=100\n",
    "        else :\n",
    "            O =  n/(G.degree(couple[0])-1+G.degree(couple[1])-1-n)\n",
    "        out.append((couple, O))\n",
    "    return out"
   ]
  },
  {
   "cell_type": "code",
   "execution_count": null,
   "metadata": {},
   "outputs": [],
   "source": [
    "overlap(G)"
   ]
  },
  {
   "cell_type": "code",
   "execution_count": null,
   "metadata": {},
   "outputs": [],
   "source": [
    "nx.closeness_centrality(G) # inverse de la dist moyenne entre n et les autre noeuds"
   ]
  },
  {
   "cell_type": "code",
   "execution_count": null,
   "metadata": {},
   "outputs": [],
   "source": [
    "nx.betweenness_centrality(G) # fraction of shortest paths that passes through n"
   ]
  },
  {
   "cell_type": "code",
   "execution_count": null,
   "metadata": {},
   "outputs": [],
   "source": [
    "nx.density(G)"
   ]
  },
  {
   "cell_type": "code",
   "execution_count": null,
   "metadata": {},
   "outputs": [],
   "source": [
    "RC = nx.rich_club_coefficient(G)"
   ]
  },
  {
   "cell_type": "code",
   "execution_count": null,
   "metadata": {},
   "outputs": [],
   "source": [
    "lists = sorted(RC.items()) # sorted by key, return a list of tuples\n",
    "\n",
    "x, y = zip(*lists) # unpack a list of pairs into two tuples\n",
    "\n",
    "plt.plot(x, y)\n",
    "plt.xlabel(\"Degree k\",fontsize=10)\n",
    "plt.ylabel(\"Rich Club Coefficient\",fontsize=10)\n",
    "plt.show()"
   ]
  },
  {
   "cell_type": "code",
   "execution_count": null,
   "metadata": {},
   "outputs": [],
   "source": [
    "def plot_degree_dist(G):\n",
    "    degrees = [G.degree(n) for n in G.nodes()]\n",
    "    plt.hist(degrees)\n",
    "    plt.show()"
   ]
  },
  {
   "cell_type": "code",
   "execution_count": null,
   "metadata": {},
   "outputs": [],
   "source": [
    "degree_freq = nx.degree_histogram(G)\n",
    "degrees = range(len(degree_freq))\n",
    "plt.figure(figsize=(12, 8)) \n",
    "plt.loglog(degrees, degree_freq) \n",
    "plt.xlabel('Degree')\n",
    "plt.ylabel('Frequency')"
   ]
  },
  {
   "cell_type": "markdown",
   "metadata": {},
   "source": [
    "#### 4) Implement and apply the k-shell decomposition algorithm."
   ]
  },
  {
   "cell_type": "markdown",
   "metadata": {},
   "source": [
    "On peut tout d'abord essayer de faire un k-shell avec une fonction \\textit{'k_shell'} directement implémentée dans la bibliothèque networkx.algorithms.core, pour différents $k$."
   ]
  },
  {
   "cell_type": "code",
   "execution_count": null,
   "metadata": {},
   "outputs": [],
   "source": [
    "from networkx.algorithms.core import k_shell"
   ]
  },
  {
   "cell_type": "code",
   "execution_count": null,
   "metadata": {},
   "outputs": [],
   "source": [
    "nx.draw(nx.k_shell(G, k=2), node_size = 10)"
   ]
  },
  {
   "cell_type": "code",
   "execution_count": null,
   "metadata": {},
   "outputs": [],
   "source": [
    "nx.draw(k_shell(G, k=4), node_size = 10)"
   ]
  },
  {
   "cell_type": "code",
   "execution_count": null,
   "metadata": {},
   "outputs": [],
   "source": [
    "nx.draw(k_shell(G, k=6), node_size = 10)"
   ]
  },
  {
   "cell_type": "code",
   "execution_count": null,
   "metadata": {},
   "outputs": [],
   "source": [
    "nx.draw(k_shell(G, k=7), node_size = 10)"
   ]
  },
  {
   "cell_type": "markdown",
   "metadata": {},
   "source": [
    "Avec un $k > 7$ il ne reste plus aucun noeud. "
   ]
  },
  {
   "cell_type": "markdown",
   "metadata": {},
   "source": [
    "Maintenant on essaye d'implementer la fonction k_shell par nous même :"
   ]
  },
  {
   "cell_type": "code",
   "execution_count": null,
   "metadata": {},
   "outputs": [],
   "source": [
    "def my_kshell (G, k) :\n",
    "    degrees = []\n",
    "    GG = nx.Graph()\n",
    "    GG.add_nodes_from(g)\n",
    "    GG.add_edges_from(g.edges)\n",
    "    \n",
    "    ik = 1\n",
    "    for ik in range(k):\n",
    "        done = False\n",
    "        while not done :\n",
    "            rm = []\n",
    "            for n in GG.nodes():\n",
    "                if GG.degree(n)<=ik:\n",
    "                    rm.append(n)\n",
    "            for m in rm:\n",
    "                GG.remove_node(m)\n",
    "            done = True\n",
    "            for n in GG.nodes():\n",
    "                if GG.degree(n)<=ik:\n",
    "                    done = False\n",
    "                    break\n",
    "            \n",
    "    return GG"
   ]
  },
  {
   "cell_type": "code",
   "execution_count": null,
   "metadata": {},
   "outputs": [],
   "source": [
    "new_G = my_kshell(G, 7)"
   ]
  },
  {
   "cell_type": "code",
   "execution_count": null,
   "metadata": {},
   "outputs": [],
   "source": [
    "nx.draw(new_G, node_size = 10)"
   ]
  },
  {
   "cell_type": "markdown",
   "metadata": {},
   "source": [
    "#### 5) For at least 4 of the metrics that you have used:  what is the time complexity of thealgorithm that calculates it (explain)?"
   ]
  },
  {
   "cell_type": "markdown",
   "metadata": {},
   "source": [
    "### \\textbf{Exercise 2 : } Community detection\n",
    "\n",
    "#### 1) You can choose between the Girvan Newman method and the Louvain algorithm tofind communities in the graph. Describe both algorithms, and their time complexities (explain)."
   ]
  },
  {
   "cell_type": "markdown",
   "metadata": {},
   "source": [
    "#### 2) Which algorithm did you choose, why ?"
   ]
  },
  {
   "cell_type": "markdown",
   "metadata": {},
   "source": [
    "#### 3) For the the Girvan Newman method, the user should select one of the output partitions, explain the criterion that could be used to make this choice, and its complexity."
   ]
  },
  {
   "cell_type": "markdown",
   "metadata": {},
   "source": [
    "#### 4) Study the GO composition of each community.  To do this you can produce a countingmatrix $M$,  such  that $M_{i,j}$ is  the  number  of  genes  from  community $j$ that  have  GO annotation $i^1$."
   ]
  },
  {
   "cell_type": "markdown",
   "metadata": {},
   "source": [
    "#### 5) Is there a relationship between graph communities and particular cell functions ?"
   ]
  },
  {
   "cell_type": "markdown",
   "metadata": {},
   "source": [
    "\\section{Around the Traveling Salesman Problem}\n",
    "    \\subsection{Introduction}\n",
    "#### Exact solution\n",
    "\n",
    "In a complete graph, every node is adjacent to every other node. Therefore, if we take all the nodes in a complete graph in any order, there will be a path through those nodes in that order. Then, if we join either end of that path, it will give us a Hamilton path. \n",
    "\\newline\n",
    "\n",
    "Let's define an Hamiltonian path $(n_1, n_2,...,n_n)$ in a complete graph of size $n$. There are $n$ possible starting nodes $n_1$. Then, as one of the $n$ nodes has already been visited, only $n-2$ options left for $n_2$ (it can't visite itself), $n-3$ for $n_3$ and so on until there is only one node left unvisited : $n_n$. Thus, there are $n!$ distinct Hamiltonian paths in a complete graph of size $n$.\n",
    "\\newline\n",
    "\n",
    "In fact, not all these path possibilities are different. On any such cycle, there are:\n",
    "\\begin{itemize}\n",
    "    \\item $n$ differents nodes where you can start the path ;\n",
    "    \\item The path is reversible, you can travel it through $2$ directions.\n",
    "\\end{itemize}\n",
    "\n",
    "So any one of these $n!$ possible paths is in a set of $2n$ cycles which all contain the same set of edges.\n",
    "So finaly get $\\frac{n!}{2n} = \\frac{(n-1)!}{2}$ distinct Hamilton paths\n",
    "\n"
   ]
  },
  {
   "cell_type": "code",
   "execution_count": null,
   "metadata": {},
   "outputs": [],
   "source": [
    "# Our complet graph (just a test for folowing algorithms)\n",
    "\n",
    "Gc = nx.Graph()\n",
    "Gc = nx.complete_graph(['a', 'b', 'c', 'd', 'e', 'f', 'g', 'h'])\n",
    "list(Gc.nodes())"
   ]
  },
  {
   "cell_type": "code",
   "execution_count": null,
   "metadata": {},
   "outputs": [],
   "source": [
    "nx.draw(Gc)"
   ]
  },
  {
   "cell_type": "code",
   "execution_count": null,
   "metadata": {},
   "outputs": [],
   "source": [
    "def hamilton(G, pt):\n",
    "    #pt : starting point\n",
    "    F = [(G,[list(G.nodes())[pt]])]\n",
    "    n = G.number_of_nodes()\n",
    "    while F:\n",
    "        graph,path = F.pop()\n",
    "        temp = []\n",
    "        neighbors = (node for node in graph.neighbors(path[-1]) if node != path[-1]) #exclude self loops\n",
    "        for neighbor in neighbors:\n",
    "            cppath = path + [] \n",
    "            cppath.append(neighbor)\n",
    "            cpgraph = nx.Graph(graph)\n",
    "            cpgraph.remove_node(path[-1])\n",
    "            temp.append((cpgraph, cppath))\n",
    "        for g,p in temp:\n",
    "            if len(p) == n:\n",
    "                return (p)\n",
    "            else:\n",
    "                F.append((g,p))"
   ]
  },
  {
   "cell_type": "code",
   "execution_count": null,
   "metadata": {},
   "outputs": [],
   "source": [
    "hamilton(Gc, 1)"
   ]
  },
  {
   "cell_type": "code",
   "execution_count": null,
   "metadata": {},
   "outputs": [],
   "source": []
  },
  {
   "cell_type": "code",
   "execution_count": null,
   "metadata": {},
   "outputs": [],
   "source": []
  },
  {
   "cell_type": "code",
   "execution_count": null,
   "metadata": {},
   "outputs": [],
   "source": []
  },
  {
   "cell_type": "code",
   "execution_count": null,
   "metadata": {},
   "outputs": [],
   "source": [
    "# returns the adjacency list of a complete graph of size n\n",
    "def complete_weight_graph(n): \n",
    "    G = {v : [(u, {'weight':0}) for u in range(n)] for v }\n",
    "    for v in range(n):\n",
    "        G[v]=[]\n",
    "        for u in range(n):\n",
    "            if v in G:\n",
    "                random.randrange(10)+1\n",
    "\n",
    "    return G"
   ]
  },
  {
   "cell_type": "code",
   "execution_count": null,
   "metadata": {},
   "outputs": [],
   "source": [
    "G = complete_weight_graph(4)\n",
    "G"
   ]
  },
  {
   "cell_type": "code",
   "execution_count": null,
   "metadata": {},
   "outputs": [],
   "source": [
    "def Hamiltonian_path(G, i):\n",
    "    N = len(G)\n",
    "    paths = [[{'dist':0}, i]]\n",
    "    for level in range(N-1):\n",
    "        cppaths = paths + [] # deep copy of paths\n",
    "        for p in cppaths: \n",
    "            for n in list(G[p[len(p)-1]]): # n : last node of the path p\n",
    "                if n[0] not in p:\n",
    "                    newp = p + [n[0]] \n",
    "                    newdist = p[0]['dist']+n[1]['weight']\n",
    "                    newp[0]= {'dist' : newdist}\n",
    "                    paths.append(newp)\n",
    "            if len(p)<(N+1):\n",
    "                paths.remove(p)\n",
    "                \n",
    "    return paths"
   ]
  },
  {
   "cell_type": "code",
   "execution_count": null,
   "metadata": {},
   "outputs": [],
   "source": [
    "Hamiltonian_path(G, 0)"
   ]
  },
  {
   "cell_type": "code",
   "execution_count": null,
   "metadata": {},
   "outputs": [],
   "source": [
    "t = (5,2)\n",
    "u = t + (5,)\n"
   ]
  },
  {
   "cell_type": "code",
   "execution_count": null,
   "metadata": {},
   "outputs": [],
   "source": [
    "paths = {(1,5):0}"
   ]
  },
  {
   "cell_type": "code",
   "execution_count": null,
   "metadata": {},
   "outputs": [],
   "source": [
    "\n",
    "paths = {(1,):0}\n",
    "p = (1,)\n",
    "newp = p + (2,)\n",
    "paths[newp] = 0\n",
    "paths"
   ]
  },
  {
   "cell_type": "code",
   "execution_count": null,
   "metadata": {},
   "outputs": [],
   "source": []
  },
  {
   "cell_type": "code",
   "execution_count": null,
   "metadata": {},
   "outputs": [],
   "source": []
  }
 ],
 "metadata": {
  "kernelspec": {
   "display_name": "Python 3",
   "language": "python",
   "name": "python3"
  },
  "language_info": {
   "codemirror_mode": {
    "name": "ipython",
    "version": 3
   },
   "file_extension": ".py",
   "mimetype": "text/x-python",
   "name": "python",
   "nbconvert_exporter": "python",
   "pygments_lexer": "ipython3",
   "version": "3.8.5"
  },
  "latex_envs": {
   "LaTeX_envs_menu_present": true,
   "autoclose": false,
   "autocomplete": true,
   "bibliofile": "biblio.bib",
   "cite_by": "apalike",
   "current_citInitial": 1,
   "eqLabelWithNumbers": true,
   "eqNumInitial": 1,
   "hotkeys": {
    "equation": "Ctrl-E",
    "itemize": "Ctrl-I"
   },
   "labels_anchors": false,
   "latex_user_defs": false,
   "report_style_numbering": false,
   "user_envs_cfg": false
  }
 },
 "nbformat": 4,
 "nbformat_minor": 4
}
