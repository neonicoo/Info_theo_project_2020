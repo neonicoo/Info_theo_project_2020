{
 "cells": [
  {
   "cell_type": "markdown",
   "metadata": {},
   "source": [
    "# Theoretical Computer Sciences Project"
   ]
  },
  {
   "cell_type": "markdown",
   "metadata": {},
   "source": [
    "#### Sergio Peignier and Théotime Grohens"
   ]
  },
  {
   "cell_type": "markdown",
   "metadata": {},
   "source": [
    "\\section{1 - Graph Therory}"
   ]
  },
  {
   "cell_type": "code",
   "execution_count": 2,
   "metadata": {},
   "outputs": [],
   "source": [
    "import pandas as pd\n",
    "import numpy as np\n",
    "import networkx as nx\n",
    "import matplotlib.pyplot as plt"
   ]
  },
  {
   "cell_type": "markdown",
   "metadata": {},
   "source": [
    "\\subsection{1.1 Introduction}"
   ]
  },
  {
   "cell_type": "markdown",
   "metadata": {},
   "source": [
    "In this project we will apply graph algorithms to study the gene regulatory network (GRN)\n",
    "of \\textit{Saccharomyces cerevisiae}.\n",
    "This species of yeast, it is a small single-cell eukaryote, with a short generation time, and\n",
    "two possible forms: an haploid one and a diploid one. Moreover, this organism can be easily\n",
    "cultured, and it has an important economic impact since it is extensively used for instance,\n",
    "in winemaking, baking, and brewing. Due to these characteristics, Saccharomyces cerevisiae\n",
    "is studied as an important model organism."
   ]
  },
  {
   "cell_type": "markdown",
   "metadata": {},
   "source": [
    "In this work we will study the gene regulatory network of \\textit{Saccharomyces cerevisiae },\n",
    "using graph theory algorithms. The files that are provided for this project have been used\n",
    "in [MCK+12] , as gold-standards to assess gene regulatory network inference algorithms, and\n",
    "they are the result of biological experiments based on ChIP binding data [MWG + 06], and\n",
    "1systematic transcription factor deletions [HKI07]. Hereafter we describe each dataset in\n",
    "details:"
   ]
  },
  {
   "cell_type": "markdown",
   "metadata": {},
   "source": [
    "\\begin{itemize}\n",
    "\\item GRN edges S cerevisiae.txt: contains the edges of the S. cervisiae regulatory network\n",
    "(from transcription factors to target genes). The intended meaning is that if there is\n",
    "an edge between transcription factor X and the target gene A, then X regulates the\n",
    "transcription of A;\n",
    "\n",
    "\\item net4 transcription factors.tsv: Is a file containing in a single column the identifiers of the transcription factors of S. cervisiae that were studied;\n",
    "\n",
    "\\item net4 gene ids.tsv: The two previous files, use specific identifiers to denote genes, and this file contains the gene name associated to each gene identifier;\n",
    "\n",
    "\\item go slim mapping.tab.txt: Only columns 0 and 5 will be used in this work. Column 0 contains the gene name, and column 5 contains its Gene Ontology (GO) annotation\n",
    "(http://www.geneontology.org/). Notice that two different rows may give for the\n",
    "same gene different Gene Ontology annotations. \n",
    "\\end{itemize}"
   ]
  },
  {
   "cell_type": "markdown",
   "metadata": {},
   "source": [
    "\\subsection{1.2 Exercices}"
   ]
  },
  {
   "cell_type": "markdown",
   "metadata": {},
   "source": [
    "\\textbf{Exercise 1 : } Exploration and characterization of the gene regulatory network}"
   ]
  },
  {
   "cell_type": "markdown",
   "metadata": {},
   "source": [
    "1) Load the dataset and create a NetworkX graph instance."
   ]
  },
  {
   "cell_type": "markdown",
   "metadata": {},
   "source": [
    "On importe les datasets avec paandas : "
   ]
  },
  {
   "cell_type": "code",
   "execution_count": 21,
   "metadata": {},
   "outputs": [],
   "source": [
    "GRN_edges_SC = pd.read_csv(\"./datas/GRN_edges_S_cerevisiae.txt\", sep = '\\n',  header=0) \n",
    "net4_transcription_factors = pd.read_csv(\"./datas/net4_transcription_factors.tsv\", sep = '\\n',  header=0) \n",
    "net4_gene_ids = pd.read_csv(\"./datas/net4_gene_ids.tsv\", sep = '\\n', header=0) \n",
    "go_slim_mappingtab = pd.read_csv(\"./datas/go_slim_mapping.tab.txt\", sep = '\\n', header=None) "
   ]
  },
  {
   "cell_type": "markdown",
   "metadata": {},
   "source": [
    "On vérifie que tout a bien été importé "
   ]
  },
  {
   "cell_type": "code",
   "execution_count": 31,
   "metadata": {},
   "outputs": [
    {
     "name": "stdout",
     "output_type": "stream",
     "text": [
      "  ,transcription_factor,target_gene\n",
      "0                          0,G15,G1\n",
      "1                          1,G98,G1\n",
      "2                         2,G109,G1\n",
      "3                          3,G22,G9\n",
      "4                        4,G211,G11 \n",
      "       ID\\tName\n",
      "0  G1\\tYHR084W\n",
      "1  G2\\tYER109C\n",
      "2  G3\\tYDR496C\n",
      "3  G4\\tYBR098W\n",
      "4  G5\\tYNL139C \n",
      "   transcription_factor\n",
      "0                   G1\n",
      "1                   G2\n",
      "2                   G3\n",
      "3                   G4\n",
      "4                   G5 \n",
      "                                                    0\n",
      "0  HRA1\\tHRA1\\tS000119380\\tC\\tcellular_component\\...\n",
      "1  HRA1\\tHRA1\\tS000119380\\tF\\tmolecular_function\\...\n",
      "2  HRA1\\tHRA1\\tS000119380\\tP\\trRNA processing\\tGO...\n",
      "3  HRA1\\tHRA1\\tS000119380\\tP\\tribosomal small sub...\n",
      "4  ICR1\\tICR1\\tS000132612\\tC\\tnucleus\\tGO:0005634...\n"
     ]
    }
   ],
   "source": [
    "print(GRN_edges_SC.head(), '\\n',\n",
    "      net4_gene_ids.head(), '\\n',  \n",
    "      net4_transcription_factors.head(), '\\n', \n",
    "      go_slim_mappingtab.head())"
   ]
  }
 ],
 "metadata": {
  "kernelspec": {
   "display_name": "Python 3",
   "language": "python",
   "name": "python3"
  },
  "language_info": {
   "codemirror_mode": {
    "name": "ipython",
    "version": 3
   },
   "file_extension": ".py",
   "mimetype": "text/x-python",
   "name": "python",
   "nbconvert_exporter": "python",
   "pygments_lexer": "ipython3",
   "version": "3.8.5"
  },
  "latex_envs": {
   "LaTeX_envs_menu_present": true,
   "autoclose": false,
   "autocomplete": true,
   "bibliofile": "biblio.bib",
   "cite_by": "apalike",
   "current_citInitial": 1,
   "eqLabelWithNumbers": true,
   "eqNumInitial": 1,
   "hotkeys": {
    "equation": "Ctrl-E",
    "itemize": "Ctrl-I"
   },
   "labels_anchors": false,
   "latex_user_defs": false,
   "report_style_numbering": false,
   "user_envs_cfg": false
  }
 },
 "nbformat": 4,
 "nbformat_minor": 4
}
